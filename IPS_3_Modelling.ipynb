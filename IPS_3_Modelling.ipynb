{
 "cells": [
  {
   "metadata": {},
   "cell_type": "markdown",
   "source": "# <center> IPS MODELLING (Part 3) </center>",
   "id": "be72926124b0d719"
  },
  {
   "metadata": {},
   "cell_type": "markdown",
   "source": [
    "There are numerous different techniques we can use to estimate the location of a device from the strength of the signal detected between the device and several access points. We will start with a relatively simple and intuitive approach, k-nearest neighbors (k-NN)\n",
    "\n",
    "\n",
    "\n",
    "Recap:\n",
    " - **PART 1**: THE DATA \n",
    "   - How was the data collected and formated?\n",
    "   - analyze the recordings, check, select and clean noise\n",
    "   - bring the recordings in a form suitable for analysis\n",
    " - **PART 2**: EDA and FE\n",
    "   - what affects the SS? We saw that orientation impacts SS, so when we predict we should use recordings with the same/similar orientations. \n",
    "      - The number of similar orientations to consider will be another hyperparameter we can tune.\n",
    "   \n",
    "   - Are the distributions of SS skewed?\n",
    "   - How is SSs relationship to distance? should we model a logarithmic or a linear relationship?\n",
    "   - We should have 110 replications for the measurements at each location-orientation combination, average these to eliminate noise and get a representative signal value (This will be used as features for modelling)\n",
    "      \n",
    "In this part, **PART 3**, we will concentrate on modelling\n",
    "\n",
    "\n",
    "Q: What is the general problem with supervised learning?"
   ],
   "id": "e746c59b40dc37b1"
  },
  {
   "metadata": {},
   "cell_type": "markdown",
   "source": "## Utility functions from previous parts",
   "id": "ecced0b38f7823c0"
  },
  {
   "metadata": {
    "ExecuteTime": {
     "end_time": "2025-05-16T02:40:06.752979Z",
     "start_time": "2025-05-16T02:40:06.550201Z"
    }
   },
   "cell_type": "code",
   "source": [
    "offline_pivoted = APsignals(offline)\n",
    "display(offline_pivoted.head(10))"
   ],
   "id": "ddfcd426c6afc6e3",
   "outputs": [
    {
     "data": {
      "text/plain": [
       "mac    posXY  posX  posY  orientation  orientation_rounded  00:0f:a3:39:e1:c0  \\\n",
       "0    0.0-0.0   0.0   0.0          0.0                    0         -51.154545   \n",
       "1    0.0-0.0   0.0   0.0         45.2                   45         -57.445455   \n",
       "2    0.0-0.0   0.0   0.0         90.3                   90         -50.585586   \n",
       "3    0.0-0.0   0.0   0.0        135.9                  135         -51.517857   \n",
       "4    0.0-0.0   0.0   0.0        180.3                  180         -55.027273   \n",
       "5    0.0-0.0   0.0   0.0        225.6                  225         -54.627273   \n",
       "6    0.0-0.0   0.0   0.0        270.1                  270         -54.636364   \n",
       "7    0.0-0.0   0.0   0.0        315.0                  315         -52.827273   \n",
       "8    0.0-1.0   0.0   1.0          0.7                    0         -50.572727   \n",
       "9    0.0-1.0   0.0   1.0         45.7                   45         -52.600000   \n",
       "\n",
       "mac  00:14:bf:3b:c7:c6  00:14:bf:b1:97:81  00:14:bf:b1:97:8a  \\\n",
       "0           -66.510870         -64.054348         -39.161290   \n",
       "1           -67.468085         -62.420455         -43.148936   \n",
       "2           -62.595506         -63.747253         -33.744681   \n",
       "3           -67.476190         -63.366667         -39.103093   \n",
       "4           -68.295238         -62.428571         -33.970000   \n",
       "5           -64.891304         -64.012048         -36.247312   \n",
       "6           -67.931373         -68.060976         -38.593750   \n",
       "7           -64.150000         -68.174419         -46.989247   \n",
       "8           -66.894118         -70.400000         -42.750000   \n",
       "9           -68.947917         -61.165049         -42.180851   \n",
       "\n",
       "mac  00:14:bf:b1:97:8d  00:14:bf:b1:97:90  \n",
       "0           -67.310345         -56.394231  \n",
       "1           -68.719512         -56.465909  \n",
       "2           -63.085366         -55.170213  \n",
       "3           -63.632911         -54.322581  \n",
       "4           -65.978022         -56.500000  \n",
       "5           -66.208791         -54.112245  \n",
       "6           -64.313953         -57.946809  \n",
       "7           -68.024390         -59.272727  \n",
       "8           -63.022989         -56.861702  \n",
       "9           -64.585366         -59.274725  "
      ],
      "text/html": [
       "<div>\n",
       "<style scoped>\n",
       "    .dataframe tbody tr th:only-of-type {\n",
       "        vertical-align: middle;\n",
       "    }\n",
       "\n",
       "    .dataframe tbody tr th {\n",
       "        vertical-align: top;\n",
       "    }\n",
       "\n",
       "    .dataframe thead th {\n",
       "        text-align: right;\n",
       "    }\n",
       "</style>\n",
       "<table border=\"1\" class=\"dataframe\">\n",
       "  <thead>\n",
       "    <tr style=\"text-align: right;\">\n",
       "      <th>mac</th>\n",
       "      <th>posXY</th>\n",
       "      <th>posX</th>\n",
       "      <th>posY</th>\n",
       "      <th>orientation</th>\n",
       "      <th>orientation_rounded</th>\n",
       "      <th>00:0f:a3:39:e1:c0</th>\n",
       "      <th>00:14:bf:3b:c7:c6</th>\n",
       "      <th>00:14:bf:b1:97:81</th>\n",
       "      <th>00:14:bf:b1:97:8a</th>\n",
       "      <th>00:14:bf:b1:97:8d</th>\n",
       "      <th>00:14:bf:b1:97:90</th>\n",
       "    </tr>\n",
       "  </thead>\n",
       "  <tbody>\n",
       "    <tr>\n",
       "      <th>0</th>\n",
       "      <td>0.0-0.0</td>\n",
       "      <td>0.0</td>\n",
       "      <td>0.0</td>\n",
       "      <td>0.0</td>\n",
       "      <td>0</td>\n",
       "      <td>-51.154545</td>\n",
       "      <td>-66.510870</td>\n",
       "      <td>-64.054348</td>\n",
       "      <td>-39.161290</td>\n",
       "      <td>-67.310345</td>\n",
       "      <td>-56.394231</td>\n",
       "    </tr>\n",
       "    <tr>\n",
       "      <th>1</th>\n",
       "      <td>0.0-0.0</td>\n",
       "      <td>0.0</td>\n",
       "      <td>0.0</td>\n",
       "      <td>45.2</td>\n",
       "      <td>45</td>\n",
       "      <td>-57.445455</td>\n",
       "      <td>-67.468085</td>\n",
       "      <td>-62.420455</td>\n",
       "      <td>-43.148936</td>\n",
       "      <td>-68.719512</td>\n",
       "      <td>-56.465909</td>\n",
       "    </tr>\n",
       "    <tr>\n",
       "      <th>2</th>\n",
       "      <td>0.0-0.0</td>\n",
       "      <td>0.0</td>\n",
       "      <td>0.0</td>\n",
       "      <td>90.3</td>\n",
       "      <td>90</td>\n",
       "      <td>-50.585586</td>\n",
       "      <td>-62.595506</td>\n",
       "      <td>-63.747253</td>\n",
       "      <td>-33.744681</td>\n",
       "      <td>-63.085366</td>\n",
       "      <td>-55.170213</td>\n",
       "    </tr>\n",
       "    <tr>\n",
       "      <th>3</th>\n",
       "      <td>0.0-0.0</td>\n",
       "      <td>0.0</td>\n",
       "      <td>0.0</td>\n",
       "      <td>135.9</td>\n",
       "      <td>135</td>\n",
       "      <td>-51.517857</td>\n",
       "      <td>-67.476190</td>\n",
       "      <td>-63.366667</td>\n",
       "      <td>-39.103093</td>\n",
       "      <td>-63.632911</td>\n",
       "      <td>-54.322581</td>\n",
       "    </tr>\n",
       "    <tr>\n",
       "      <th>4</th>\n",
       "      <td>0.0-0.0</td>\n",
       "      <td>0.0</td>\n",
       "      <td>0.0</td>\n",
       "      <td>180.3</td>\n",
       "      <td>180</td>\n",
       "      <td>-55.027273</td>\n",
       "      <td>-68.295238</td>\n",
       "      <td>-62.428571</td>\n",
       "      <td>-33.970000</td>\n",
       "      <td>-65.978022</td>\n",
       "      <td>-56.500000</td>\n",
       "    </tr>\n",
       "    <tr>\n",
       "      <th>5</th>\n",
       "      <td>0.0-0.0</td>\n",
       "      <td>0.0</td>\n",
       "      <td>0.0</td>\n",
       "      <td>225.6</td>\n",
       "      <td>225</td>\n",
       "      <td>-54.627273</td>\n",
       "      <td>-64.891304</td>\n",
       "      <td>-64.012048</td>\n",
       "      <td>-36.247312</td>\n",
       "      <td>-66.208791</td>\n",
       "      <td>-54.112245</td>\n",
       "    </tr>\n",
       "    <tr>\n",
       "      <th>6</th>\n",
       "      <td>0.0-0.0</td>\n",
       "      <td>0.0</td>\n",
       "      <td>0.0</td>\n",
       "      <td>270.1</td>\n",
       "      <td>270</td>\n",
       "      <td>-54.636364</td>\n",
       "      <td>-67.931373</td>\n",
       "      <td>-68.060976</td>\n",
       "      <td>-38.593750</td>\n",
       "      <td>-64.313953</td>\n",
       "      <td>-57.946809</td>\n",
       "    </tr>\n",
       "    <tr>\n",
       "      <th>7</th>\n",
       "      <td>0.0-0.0</td>\n",
       "      <td>0.0</td>\n",
       "      <td>0.0</td>\n",
       "      <td>315.0</td>\n",
       "      <td>315</td>\n",
       "      <td>-52.827273</td>\n",
       "      <td>-64.150000</td>\n",
       "      <td>-68.174419</td>\n",
       "      <td>-46.989247</td>\n",
       "      <td>-68.024390</td>\n",
       "      <td>-59.272727</td>\n",
       "    </tr>\n",
       "    <tr>\n",
       "      <th>8</th>\n",
       "      <td>0.0-1.0</td>\n",
       "      <td>0.0</td>\n",
       "      <td>1.0</td>\n",
       "      <td>0.7</td>\n",
       "      <td>0</td>\n",
       "      <td>-50.572727</td>\n",
       "      <td>-66.894118</td>\n",
       "      <td>-70.400000</td>\n",
       "      <td>-42.750000</td>\n",
       "      <td>-63.022989</td>\n",
       "      <td>-56.861702</td>\n",
       "    </tr>\n",
       "    <tr>\n",
       "      <th>9</th>\n",
       "      <td>0.0-1.0</td>\n",
       "      <td>0.0</td>\n",
       "      <td>1.0</td>\n",
       "      <td>45.7</td>\n",
       "      <td>45</td>\n",
       "      <td>-52.600000</td>\n",
       "      <td>-68.947917</td>\n",
       "      <td>-61.165049</td>\n",
       "      <td>-42.180851</td>\n",
       "      <td>-64.585366</td>\n",
       "      <td>-59.274725</td>\n",
       "    </tr>\n",
       "  </tbody>\n",
       "</table>\n",
       "</div>"
      ]
     },
     "metadata": {},
     "output_type": "display_data"
    }
   ],
   "execution_count": 2
  },
  {
   "metadata": {
    "ExecuteTime": {
     "end_time": "2025-05-16T02:40:07.003968Z",
     "start_time": "2025-05-16T02:40:06.822632Z"
    }
   },
   "cell_type": "code",
   "source": [
    "offline_pivoted_2 = APsignals(offline, columns=[\"posXY\", \"posX\", \"posY\"])\n",
    "display(offline_pivoted_2.head(10))"
   ],
   "id": "3904b6b4a92ef45f",
   "outputs": [
    {
     "data": {
      "text/plain": [
       "mac     posXY  posX  posY  00:0f:a3:39:e1:c0  00:14:bf:3b:c7:c6  \\\n",
       "0     0.0-0.0   0.0   0.0         -53.469989         -66.241335   \n",
       "1     0.0-1.0   0.0   1.0         -52.905575         -66.169935   \n",
       "2    0.0-10.0   0.0  10.0         -55.259681         -65.046768   \n",
       "3    0.0-11.0   0.0  11.0         -54.170648         -67.937158   \n",
       "4    0.0-12.0   0.0  12.0         -54.450000         -68.096599   \n",
       "5    0.0-13.0   0.0  13.0         -54.846591         -70.764940   \n",
       "6     0.0-2.0   0.0   2.0         -55.887628         -62.128571   \n",
       "7     0.0-3.0   0.0   3.0         -55.543182         -63.221477   \n",
       "8     0.0-4.0   0.0   4.0         -52.046644         -64.174707   \n",
       "9     0.0-7.0   0.0   7.0         -56.077361         -64.321381   \n",
       "\n",
       "mac  00:14:bf:b1:97:81  00:14:bf:b1:97:8a  00:14:bf:b1:97:8d  \\\n",
       "0           -64.477952         -38.823684         -65.925000   \n",
       "1           -65.700831         -39.772087         -65.497817   \n",
       "2           -66.334770         -45.386973         -65.744838   \n",
       "3           -68.846583         -48.007926         -66.576923   \n",
       "4           -70.866109         -45.607643         -68.258308   \n",
       "5           -72.106534         -45.447917         -68.547112   \n",
       "6           -62.125554         -43.651671         -62.763271   \n",
       "7           -56.002813         -41.138677         -62.111425   \n",
       "8           -59.315501         -42.611702         -62.678822   \n",
       "9           -64.227205         -45.802993         -54.561254   \n",
       "\n",
       "mac  00:14:bf:b1:97:90  \n",
       "0           -56.285156  \n",
       "1           -58.028646  \n",
       "2           -52.094928  \n",
       "3           -55.192555  \n",
       "4           -53.444727  \n",
       "5           -55.117497  \n",
       "6           -55.160574  \n",
       "7           -54.355731  \n",
       "8           -54.055046  \n",
       "9           -57.969333  "
      ],
      "text/html": [
       "<div>\n",
       "<style scoped>\n",
       "    .dataframe tbody tr th:only-of-type {\n",
       "        vertical-align: middle;\n",
       "    }\n",
       "\n",
       "    .dataframe tbody tr th {\n",
       "        vertical-align: top;\n",
       "    }\n",
       "\n",
       "    .dataframe thead th {\n",
       "        text-align: right;\n",
       "    }\n",
       "</style>\n",
       "<table border=\"1\" class=\"dataframe\">\n",
       "  <thead>\n",
       "    <tr style=\"text-align: right;\">\n",
       "      <th>mac</th>\n",
       "      <th>posXY</th>\n",
       "      <th>posX</th>\n",
       "      <th>posY</th>\n",
       "      <th>00:0f:a3:39:e1:c0</th>\n",
       "      <th>00:14:bf:3b:c7:c6</th>\n",
       "      <th>00:14:bf:b1:97:81</th>\n",
       "      <th>00:14:bf:b1:97:8a</th>\n",
       "      <th>00:14:bf:b1:97:8d</th>\n",
       "      <th>00:14:bf:b1:97:90</th>\n",
       "    </tr>\n",
       "  </thead>\n",
       "  <tbody>\n",
       "    <tr>\n",
       "      <th>0</th>\n",
       "      <td>0.0-0.0</td>\n",
       "      <td>0.0</td>\n",
       "      <td>0.0</td>\n",
       "      <td>-53.469989</td>\n",
       "      <td>-66.241335</td>\n",
       "      <td>-64.477952</td>\n",
       "      <td>-38.823684</td>\n",
       "      <td>-65.925000</td>\n",
       "      <td>-56.285156</td>\n",
       "    </tr>\n",
       "    <tr>\n",
       "      <th>1</th>\n",
       "      <td>0.0-1.0</td>\n",
       "      <td>0.0</td>\n",
       "      <td>1.0</td>\n",
       "      <td>-52.905575</td>\n",
       "      <td>-66.169935</td>\n",
       "      <td>-65.700831</td>\n",
       "      <td>-39.772087</td>\n",
       "      <td>-65.497817</td>\n",
       "      <td>-58.028646</td>\n",
       "    </tr>\n",
       "    <tr>\n",
       "      <th>2</th>\n",
       "      <td>0.0-10.0</td>\n",
       "      <td>0.0</td>\n",
       "      <td>10.0</td>\n",
       "      <td>-55.259681</td>\n",
       "      <td>-65.046768</td>\n",
       "      <td>-66.334770</td>\n",
       "      <td>-45.386973</td>\n",
       "      <td>-65.744838</td>\n",
       "      <td>-52.094928</td>\n",
       "    </tr>\n",
       "    <tr>\n",
       "      <th>3</th>\n",
       "      <td>0.0-11.0</td>\n",
       "      <td>0.0</td>\n",
       "      <td>11.0</td>\n",
       "      <td>-54.170648</td>\n",
       "      <td>-67.937158</td>\n",
       "      <td>-68.846583</td>\n",
       "      <td>-48.007926</td>\n",
       "      <td>-66.576923</td>\n",
       "      <td>-55.192555</td>\n",
       "    </tr>\n",
       "    <tr>\n",
       "      <th>4</th>\n",
       "      <td>0.0-12.0</td>\n",
       "      <td>0.0</td>\n",
       "      <td>12.0</td>\n",
       "      <td>-54.450000</td>\n",
       "      <td>-68.096599</td>\n",
       "      <td>-70.866109</td>\n",
       "      <td>-45.607643</td>\n",
       "      <td>-68.258308</td>\n",
       "      <td>-53.444727</td>\n",
       "    </tr>\n",
       "    <tr>\n",
       "      <th>5</th>\n",
       "      <td>0.0-13.0</td>\n",
       "      <td>0.0</td>\n",
       "      <td>13.0</td>\n",
       "      <td>-54.846591</td>\n",
       "      <td>-70.764940</td>\n",
       "      <td>-72.106534</td>\n",
       "      <td>-45.447917</td>\n",
       "      <td>-68.547112</td>\n",
       "      <td>-55.117497</td>\n",
       "    </tr>\n",
       "    <tr>\n",
       "      <th>6</th>\n",
       "      <td>0.0-2.0</td>\n",
       "      <td>0.0</td>\n",
       "      <td>2.0</td>\n",
       "      <td>-55.887628</td>\n",
       "      <td>-62.128571</td>\n",
       "      <td>-62.125554</td>\n",
       "      <td>-43.651671</td>\n",
       "      <td>-62.763271</td>\n",
       "      <td>-55.160574</td>\n",
       "    </tr>\n",
       "    <tr>\n",
       "      <th>7</th>\n",
       "      <td>0.0-3.0</td>\n",
       "      <td>0.0</td>\n",
       "      <td>3.0</td>\n",
       "      <td>-55.543182</td>\n",
       "      <td>-63.221477</td>\n",
       "      <td>-56.002813</td>\n",
       "      <td>-41.138677</td>\n",
       "      <td>-62.111425</td>\n",
       "      <td>-54.355731</td>\n",
       "    </tr>\n",
       "    <tr>\n",
       "      <th>8</th>\n",
       "      <td>0.0-4.0</td>\n",
       "      <td>0.0</td>\n",
       "      <td>4.0</td>\n",
       "      <td>-52.046644</td>\n",
       "      <td>-64.174707</td>\n",
       "      <td>-59.315501</td>\n",
       "      <td>-42.611702</td>\n",
       "      <td>-62.678822</td>\n",
       "      <td>-54.055046</td>\n",
       "    </tr>\n",
       "    <tr>\n",
       "      <th>9</th>\n",
       "      <td>0.0-7.0</td>\n",
       "      <td>0.0</td>\n",
       "      <td>7.0</td>\n",
       "      <td>-56.077361</td>\n",
       "      <td>-64.321381</td>\n",
       "      <td>-64.227205</td>\n",
       "      <td>-45.802993</td>\n",
       "      <td>-54.561254</td>\n",
       "      <td>-57.969333</td>\n",
       "    </tr>\n",
       "  </tbody>\n",
       "</table>\n",
       "</div>"
      ]
     },
     "metadata": {},
     "output_type": "display_data"
    }
   ],
   "execution_count": 3
  },
  {
   "metadata": {},
   "cell_type": "markdown",
   "source": [
    "## K-NN, what do we need?\n",
    "\n",
    "We want to predict the location of a new point based on how similar the signals from the 6 AP are. As we mentioned already, since the orientation impacts signal, we will subset the data and select only recordings with same/similar orientations\n",
    "\n",
    "- we choose k neighbours, by calculating the similarity between the vectors of 6 values.\n",
    "- what kind of similarity can we use? \n",
    "    - Euclidian Distance (L2 Norm)\n",
    "    - Dot product\n",
    "    - Cosine Similarity\n",
    "    - Manhattan Distance (L1 Norm)\n",
    "    - Minkowski Distance (Lp Norm)\n",
    "    - ...\n",
    "Please reflect what these metrics measure and when to use them.\n",
    "\n",
    "Are all access points of equal importance or should we distinguish between close and far access points? \n",
    "\n",
    "Which other features can we consider and how can we include them in the analysis?\n",
    "- We already argued that  orientation impacts the recorded signals and hence taking a subset of the data makes sense."
   ],
   "id": "88c1f7cd4123db38"
  },
  {
   "cell_type": "markdown",
   "id": "34095a3fe002096d",
   "metadata": {},
   "source": [
    "## Modeling baseline: k-NN\n",
    "\n",
    "- is a simple approach, to set the benchmark\n",
    "- We naturally think of measuring the distance between two sets of signal strengths with Euclidean distance, i.e. we compare vectors of size 6\n",
    "\n",
    " $\\sqrt{(\\sum (s_i^*-s_i)^2)}$, where \n",
    " - $s_i$ is the signal strength measured between the hand-held device and the i-th access point for a training observation taken at some specified location, and\n",
    " - $s^*_i$ is the signal measured between the same access point and our new point whose (x, y) values we are trying to predict.\n",
    "\n",
    "\n",
    "- Read about K-NN\n",
    "    - non-parametric, classification or regression.\n",
    "    - training: just storing the offline data\n",
    "    - new point = a new set of signal strengths for a location that is not known, \n",
    "    - we find the k observations in our training data that is closest to this new observation and \n",
    "    - we estimate the new observation's position by an aggregation of the positions of the k training points (e.g. mean or weighted mean)\n",
    "\n",
    "Downside \n",
    "\n",
    "   - We assume similarity of the new data to the offline data\n",
    "   - Hence we can only consider known AP's and we would need new measurements if anything changes"
   ]
  },
  {
   "cell_type": "markdown",
   "id": "481fa7ad1dc1f1e0",
   "metadata": {},
   "source": "## Preparing and Analyzing the online data set\n"
  },
  {
   "metadata": {},
   "cell_type": "markdown",
   "source": "### Number of new measurements",
   "id": "3aad98e115163fa0"
  },
  {
   "cell_type": "markdown",
   "id": "35c7a4de850d58fa",
   "metadata": {},
   "source": [
    "\n",
    "### The Distribution of new signals\n",
    "\n",
    "Look at how the 60 new recorded signals are distributed in location and angle."
   ]
  },
  {
   "cell_type": "markdown",
   "id": "e0a19da727b0d869",
   "metadata": {},
   "source": [
    "### Bringing the online data in a form suitable for prediction\n",
    "\n",
    "When we consider similarity between two measurements we will look at a vector of 6 SS values for each of the measurements, and we calculate the distance between these.\n",
    "\n",
    "We hence reorganize the data to have one column representing each of the 6 APs, and the values will be the average signal strength measured for that AP at each location. The measurements are repeated to ensure that the noise affects the values less (regression to the mean)"
   ]
  },
  {
   "metadata": {},
   "cell_type": "markdown",
   "source": [
    "## Selecting m similar angles\n",
    "\n",
    "We saw that we have only **one orientation** for each location.\n",
    "\n",
    "\n",
    "\n",
    "For each new point, we want to find records in our offline data set, that have similar to our new observation. Since we saw that orientation impacts the signal, we should choose records with similar orientations. We could use records with an orientation that is within a specified range of the new point's orientation, i.e. m, the number of neighboring angles. This will be a parameter for our model as well, along with k, the number of neighboring points."
   ],
   "id": "483428e815243e99"
  },
  {
   "metadata": {
    "ExecuteTime": {
     "end_time": "2025-05-16T02:40:06.437741Z",
     "start_time": "2025-05-16T02:39:57.552057Z"
    }
   },
   "cell_type": "code",
   "outputs": [
    {
     "name": "stdout",
     "output_type": "stream",
     "text": [
      "Parsed 1181628 measurements.\n",
      "reference APs: ['00:0f:a3:39:e1:c0', '00:0f:a3:39:dd:cd', '00:14:bf:b1:97:8a', '00:14:bf:3b:c7:c6', '00:14:bf:b1:97:90', '00:14:bf:b1:97:8d', '00:14:bf:b1:97:81']\n"
     ]
    },
    {
     "data": {
      "text/plain": [
       "          rawTime            scanMac  posX  posY  orientation  \\\n",
       "0   1139643118358  00:02:2D:21:0F:33   0.0   0.0          0.0   \n",
       "1   1139643118358  00:02:2D:21:0F:33   0.0   0.0          0.0   \n",
       "2   1139643118358  00:02:2D:21:0F:33   0.0   0.0          0.0   \n",
       "3   1139643118358  00:02:2D:21:0F:33   0.0   0.0          0.0   \n",
       "4   1139643118358  00:02:2D:21:0F:33   0.0   0.0          0.0   \n",
       "5   1139643118358  00:02:2D:21:0F:33   0.0   0.0          0.0   \n",
       "11  1139643118744  00:02:2D:21:0F:33   0.0   0.0          0.0   \n",
       "12  1139643118744  00:02:2D:21:0F:33   0.0   0.0          0.0   \n",
       "13  1139643118744  00:02:2D:21:0F:33   0.0   0.0          0.0   \n",
       "14  1139643118744  00:02:2D:21:0F:33   0.0   0.0          0.0   \n",
       "\n",
       "                  mac  signal     channel                    time    posXY  \\\n",
       "0   00:14:bf:b1:97:8a     -38  2437000000 2006-02-11 07:31:58.358  0.0-0.0   \n",
       "1   00:14:bf:b1:97:90     -56  2427000000 2006-02-11 07:31:58.358  0.0-0.0   \n",
       "2   00:0f:a3:39:e1:c0     -53  2462000000 2006-02-11 07:31:58.358  0.0-0.0   \n",
       "3   00:14:bf:b1:97:8d     -65  2442000000 2006-02-11 07:31:58.358  0.0-0.0   \n",
       "4   00:14:bf:b1:97:81     -65  2422000000 2006-02-11 07:31:58.358  0.0-0.0   \n",
       "5   00:14:bf:3b:c7:c6     -66  2432000000 2006-02-11 07:31:58.358  0.0-0.0   \n",
       "11  00:14:bf:b1:97:8a     -38  2437000000 2006-02-11 07:31:58.744  0.0-0.0   \n",
       "12  00:0f:a3:39:e1:c0     -54  2462000000 2006-02-11 07:31:58.744  0.0-0.0   \n",
       "13  00:14:bf:b1:97:90     -56  2427000000 2006-02-11 07:31:58.744  0.0-0.0   \n",
       "14  00:14:bf:3b:c7:c6     -67  2432000000 2006-02-11 07:31:58.744  0.0-0.0   \n",
       "\n",
       "    orientation_rounded  \n",
       "0                     0  \n",
       "1                     0  \n",
       "2                     0  \n",
       "3                     0  \n",
       "4                     0  \n",
       "5                     0  \n",
       "11                    0  \n",
       "12                    0  \n",
       "13                    0  \n",
       "14                    0  "
      ],
      "text/html": [
       "<div>\n",
       "<style scoped>\n",
       "    .dataframe tbody tr th:only-of-type {\n",
       "        vertical-align: middle;\n",
       "    }\n",
       "\n",
       "    .dataframe tbody tr th {\n",
       "        vertical-align: top;\n",
       "    }\n",
       "\n",
       "    .dataframe thead th {\n",
       "        text-align: right;\n",
       "    }\n",
       "</style>\n",
       "<table border=\"1\" class=\"dataframe\">\n",
       "  <thead>\n",
       "    <tr style=\"text-align: right;\">\n",
       "      <th></th>\n",
       "      <th>rawTime</th>\n",
       "      <th>scanMac</th>\n",
       "      <th>posX</th>\n",
       "      <th>posY</th>\n",
       "      <th>orientation</th>\n",
       "      <th>mac</th>\n",
       "      <th>signal</th>\n",
       "      <th>channel</th>\n",
       "      <th>time</th>\n",
       "      <th>posXY</th>\n",
       "      <th>orientation_rounded</th>\n",
       "    </tr>\n",
       "  </thead>\n",
       "  <tbody>\n",
       "    <tr>\n",
       "      <th>0</th>\n",
       "      <td>1139643118358</td>\n",
       "      <td>00:02:2D:21:0F:33</td>\n",
       "      <td>0.0</td>\n",
       "      <td>0.0</td>\n",
       "      <td>0.0</td>\n",
       "      <td>00:14:bf:b1:97:8a</td>\n",
       "      <td>-38</td>\n",
       "      <td>2437000000</td>\n",
       "      <td>2006-02-11 07:31:58.358</td>\n",
       "      <td>0.0-0.0</td>\n",
       "      <td>0</td>\n",
       "    </tr>\n",
       "    <tr>\n",
       "      <th>1</th>\n",
       "      <td>1139643118358</td>\n",
       "      <td>00:02:2D:21:0F:33</td>\n",
       "      <td>0.0</td>\n",
       "      <td>0.0</td>\n",
       "      <td>0.0</td>\n",
       "      <td>00:14:bf:b1:97:90</td>\n",
       "      <td>-56</td>\n",
       "      <td>2427000000</td>\n",
       "      <td>2006-02-11 07:31:58.358</td>\n",
       "      <td>0.0-0.0</td>\n",
       "      <td>0</td>\n",
       "    </tr>\n",
       "    <tr>\n",
       "      <th>2</th>\n",
       "      <td>1139643118358</td>\n",
       "      <td>00:02:2D:21:0F:33</td>\n",
       "      <td>0.0</td>\n",
       "      <td>0.0</td>\n",
       "      <td>0.0</td>\n",
       "      <td>00:0f:a3:39:e1:c0</td>\n",
       "      <td>-53</td>\n",
       "      <td>2462000000</td>\n",
       "      <td>2006-02-11 07:31:58.358</td>\n",
       "      <td>0.0-0.0</td>\n",
       "      <td>0</td>\n",
       "    </tr>\n",
       "    <tr>\n",
       "      <th>3</th>\n",
       "      <td>1139643118358</td>\n",
       "      <td>00:02:2D:21:0F:33</td>\n",
       "      <td>0.0</td>\n",
       "      <td>0.0</td>\n",
       "      <td>0.0</td>\n",
       "      <td>00:14:bf:b1:97:8d</td>\n",
       "      <td>-65</td>\n",
       "      <td>2442000000</td>\n",
       "      <td>2006-02-11 07:31:58.358</td>\n",
       "      <td>0.0-0.0</td>\n",
       "      <td>0</td>\n",
       "    </tr>\n",
       "    <tr>\n",
       "      <th>4</th>\n",
       "      <td>1139643118358</td>\n",
       "      <td>00:02:2D:21:0F:33</td>\n",
       "      <td>0.0</td>\n",
       "      <td>0.0</td>\n",
       "      <td>0.0</td>\n",
       "      <td>00:14:bf:b1:97:81</td>\n",
       "      <td>-65</td>\n",
       "      <td>2422000000</td>\n",
       "      <td>2006-02-11 07:31:58.358</td>\n",
       "      <td>0.0-0.0</td>\n",
       "      <td>0</td>\n",
       "    </tr>\n",
       "    <tr>\n",
       "      <th>5</th>\n",
       "      <td>1139643118358</td>\n",
       "      <td>00:02:2D:21:0F:33</td>\n",
       "      <td>0.0</td>\n",
       "      <td>0.0</td>\n",
       "      <td>0.0</td>\n",
       "      <td>00:14:bf:3b:c7:c6</td>\n",
       "      <td>-66</td>\n",
       "      <td>2432000000</td>\n",
       "      <td>2006-02-11 07:31:58.358</td>\n",
       "      <td>0.0-0.0</td>\n",
       "      <td>0</td>\n",
       "    </tr>\n",
       "    <tr>\n",
       "      <th>11</th>\n",
       "      <td>1139643118744</td>\n",
       "      <td>00:02:2D:21:0F:33</td>\n",
       "      <td>0.0</td>\n",
       "      <td>0.0</td>\n",
       "      <td>0.0</td>\n",
       "      <td>00:14:bf:b1:97:8a</td>\n",
       "      <td>-38</td>\n",
       "      <td>2437000000</td>\n",
       "      <td>2006-02-11 07:31:58.744</td>\n",
       "      <td>0.0-0.0</td>\n",
       "      <td>0</td>\n",
       "    </tr>\n",
       "    <tr>\n",
       "      <th>12</th>\n",
       "      <td>1139643118744</td>\n",
       "      <td>00:02:2D:21:0F:33</td>\n",
       "      <td>0.0</td>\n",
       "      <td>0.0</td>\n",
       "      <td>0.0</td>\n",
       "      <td>00:0f:a3:39:e1:c0</td>\n",
       "      <td>-54</td>\n",
       "      <td>2462000000</td>\n",
       "      <td>2006-02-11 07:31:58.744</td>\n",
       "      <td>0.0-0.0</td>\n",
       "      <td>0</td>\n",
       "    </tr>\n",
       "    <tr>\n",
       "      <th>13</th>\n",
       "      <td>1139643118744</td>\n",
       "      <td>00:02:2D:21:0F:33</td>\n",
       "      <td>0.0</td>\n",
       "      <td>0.0</td>\n",
       "      <td>0.0</td>\n",
       "      <td>00:14:bf:b1:97:90</td>\n",
       "      <td>-56</td>\n",
       "      <td>2427000000</td>\n",
       "      <td>2006-02-11 07:31:58.744</td>\n",
       "      <td>0.0-0.0</td>\n",
       "      <td>0</td>\n",
       "    </tr>\n",
       "    <tr>\n",
       "      <th>14</th>\n",
       "      <td>1139643118744</td>\n",
       "      <td>00:02:2D:21:0F:33</td>\n",
       "      <td>0.0</td>\n",
       "      <td>0.0</td>\n",
       "      <td>0.0</td>\n",
       "      <td>00:14:bf:3b:c7:c6</td>\n",
       "      <td>-67</td>\n",
       "      <td>2432000000</td>\n",
       "      <td>2006-02-11 07:31:58.744</td>\n",
       "      <td>0.0-0.0</td>\n",
       "      <td>0</td>\n",
       "    </tr>\n",
       "  </tbody>\n",
       "</table>\n",
       "</div>"
      ]
     },
     "metadata": {},
     "output_type": "display_data"
    },
    {
     "name": "stdout",
     "output_type": "stream",
     "text": [
      "<class 'pandas.core.frame.DataFrame'>\n",
      "Index: 759627 entries, 0 to 1181625\n",
      "Data columns (total 11 columns):\n",
      " #   Column               Non-Null Count   Dtype         \n",
      "---  ------               --------------   -----         \n",
      " 0   rawTime              759627 non-null  int64         \n",
      " 1   scanMac              759627 non-null  object        \n",
      " 2   posX                 759627 non-null  float64       \n",
      " 3   posY                 759627 non-null  float64       \n",
      " 4   orientation          759627 non-null  float64       \n",
      " 5   mac                  759627 non-null  object        \n",
      " 6   signal               759627 non-null  int64         \n",
      " 7   channel              759627 non-null  int64         \n",
      " 8   time                 759627 non-null  datetime64[ns]\n",
      " 9   posXY                759627 non-null  object        \n",
      " 10  orientation_rounded  759627 non-null  int64         \n",
      "dtypes: datetime64[ns](1), float64(3), int64(4), object(3)\n",
      "memory usage: 69.5+ MB\n"
     ]
    },
    {
     "data": {
      "text/plain": [
       "None"
      ]
     },
     "metadata": {},
     "output_type": "display_data"
    },
    {
     "data": {
      "text/plain": [
       "array(['00:14:bf:b1:97:8a', '00:14:bf:b1:97:90', '00:0f:a3:39:e1:c0',\n",
       "       '00:14:bf:b1:97:8d', '00:14:bf:b1:97:81', '00:14:bf:3b:c7:c6'],\n",
       "      dtype=object)"
      ]
     },
     "metadata": {},
     "output_type": "display_data"
    },
    {
     "data": {
      "text/plain": [
       "array(['00:14:bf:b1:97:8a', '00:14:bf:b1:97:90', '00:14:bf:b1:97:8d',\n",
       "       '00:14:bf:b1:97:81', '00:14:bf:3b:c7:c6', '00:0f:a3:39:dd:cd'],\n",
       "      dtype=object)"
      ]
     },
     "metadata": {},
     "output_type": "display_data"
    }
   ],
   "execution_count": 1,
   "source": [
    "import pandas as pd\n",
    "import numpy as np\n",
    "import matplotlib.pyplot as plt\n",
    "import seaborn as sns\n",
    "import re\n",
    "from utils import *\n",
    "\n",
    "offline = read_data('./data/offline.final.trace.txt')\n",
    "offline = preprocessing(offline)\n",
    "# ending _v2 will be used throughout the notebook to mark the dataset where mac 00:0f:a3:39:e1:c0 instead of 00:0f:a3:39:dd:cd as been removed from the dataset\n",
    "offline_v2 = offline.copy()\n",
    "submacs= ['00:0f:a3:39:e1:c0', '00:0f:a3:39:dd:cd', '00:14:bf:b1:97:8a',\n",
    "          '00:14:bf:3b:c7:c6', '00:14:bf:b1:97:90', '00:14:bf:b1:97:8d',\n",
    "          '00:14:bf:b1:97:81']\n",
    "submacs_v2 = submacs.copy()\n",
    "submacs.remove(submacs[1])\n",
    "submacs_v2.remove(submacs_v2[0])\n",
    "offline = offline[offline['mac'].isin(submacs)].copy()\n",
    "offline_v2 = offline_v2[offline_v2['mac'].isin(submacs_v2)].copy()\n",
    "display(offline.head(10))\n",
    "display(offline.info())\n",
    "display(offline[\"mac\"].unique())\n",
    "display(offline_v2[\"mac\"].unique())\n",
    "\n",
    "def APsignals(data, \n",
    "              columns=[\"posXY\", \"posX\", \"posY\", \"orientation\", \"orientation_rounded\"], \n",
    "              pivot_by ='mac',\n",
    "              averaging_col='signal', \n",
    "              agg_fct='mean'):\n",
    "    ''' this function returns the data containing the representative signal as the averages of signals for each mac for the given grouping columns'''\n",
    "    pivoted_data = data.pivot_table(values=averaging_col, index=columns, aggfunc=agg_fct, columns=[pivot_by]).reset_index()\n",
    "    return pivoted_data\n"
   ],
   "id": "57cef15efa3dfe16"
  },
  {
   "metadata": {
    "ExecuteTime": {
     "end_time": "2025-05-16T02:40:07.066990Z",
     "start_time": "2025-05-16T02:40:07.048579Z"
    }
   },
   "cell_type": "code",
   "source": "round_orientation(22.4), round_orientation(22.51)",
   "id": "a5f626e7fc2b9c11",
   "outputs": [
    {
     "data": {
      "text/plain": [
       "(0, 45)"
      ]
     },
     "execution_count": 4,
     "metadata": {},
     "output_type": "execute_result"
    }
   ],
   "execution_count": 4
  },
  {
   "metadata": {
    "ExecuteTime": {
     "end_time": "2025-05-16T02:40:07.239440Z",
     "start_time": "2025-05-16T02:40:07.224923Z"
    }
   },
   "cell_type": "code",
   "source": [
    "def nearest_angles(observed_angle, count):\n",
    "    \"\"\"\n",
    "    Identify the nearest 'count' angles to a given observed angle, \n",
    "    from the set {0, 45, 90, ..., 315} degrees, considering circular wrap-around.\n",
    "\n",
    "    Parameters:\n",
    "    - observed_angle (float): The angle measurement in degrees.\n",
    "    - count (int): The number of closest angles to return.\n",
    "\n",
    "    Returns:\n",
    "    - List[int]: The list of the 'count' nearest angles.\n",
    "    \"\"\"\n",
    "    # All possible orientations at 45° increments\n",
    "    candidates = [i * 45 for i in range(8)]  # [0, 45, 90, ..., 315]\n",
    "\n",
    "    # Wrap the observed angle into [0, 360)\n",
    "    normalized = observed_angle % 360\n",
    "\n",
    "    # Compute shortest circular distance between normalized angle and each candidate\n",
    "    angle_distances = []\n",
    "    for angle in candidates:\n",
    "        diff = abs(angle - normalized)\n",
    "        circular_diff = min(diff, 360 - diff)\n",
    "        angle_distances.append((angle, circular_diff))\n",
    "\n",
    "    # Sort by ascending distance and pick the top 'count' angles\n",
    "    angle_distances.sort(key=lambda x: x[1])\n",
    "    closest = [angle for angle, _ in angle_distances[:count]]\n",
    "\n",
    "    return closest\n",
    "\n",
    "\n",
    "m = 3\n",
    "angle_new_obs = 220\n",
    "angles = nearest_angles(angle_new_obs, m)\n",
    "print(angles)\n",
    "\n"
   ],
   "id": "e4f0af79be138115",
   "outputs": [
    {
     "name": "stdout",
     "output_type": "stream",
     "text": [
      "[225, 180, 270]\n"
     ]
    }
   ],
   "execution_count": 5
  },
  {
   "cell_type": "markdown",
   "id": "549e8f5a606d2906",
   "metadata": {},
   "source": [
    "### Subsetting the data\n",
    "We will subset the data to only consider neighbouring angles and we aggregate the signal strengths from the angles and create a data structure that is similar to onlineSummary, containing the avg signals from the 6 AP."
   ]
  },
  {
   "cell_type": "markdown",
   "id": "3fa770da9593cc8e",
   "metadata": {},
   "source": [
    "### Finding the neighbors and averaging\n",
    "\n",
    "To find the nearest neighbors (in the subset with similar orientations) we need to calculate the distance from the new point to all observations in the training set.\n",
    "\n",
    "The location of the new observation could be the average of the locations of the first k neighbors.\n",
    "\n",
    "Better, of course, would be to differentiate between the points. This is left for you as an exercise.\n",
    "\n",
    "Towards this end, we can use weights in the average that are inversely proportional to the distance (in signal strength) from the test observation. \n",
    "\n",
    "The weights might be $\\frac{\\frac{1}{d_i}}{\\sum_{i=1}^{k}\\frac{1}{d_i}}$ for the i-th closest neighboring observation. In this case, we would also need to return the distance values. "
   ]
  },
  {
   "metadata": {
    "ExecuteTime": {
     "end_time": "2025-05-16T02:40:07.302401Z",
     "start_time": "2025-05-16T02:40:07.285313Z"
    }
   },
   "cell_type": "code",
   "source": [
    "def pred_xy(online_reshaped, offline_summary, num_angles=1, k=3):\n",
    "    \"\"\"\n",
    "    Estimate X,Y coordinates for each new observation by finding the k closest\n",
    "    records in offline_summary that have one of the num_angles nearest orientations,\n",
    "    then computing the simple average of their positions.\n",
    "\n",
    "    Parameters:\n",
    "    - online_reshaped: pd.DataFrame with an 'orientation_rounded' column plus one column per MAC (e.g. '00:11:22:33:44:55').\n",
    "    - offline_summary: pd.DataFrame with ['posX','posY','orientation_rounded'] plus the same MAC‐columns.\n",
    "    - num_angles: how many adjacent 45° bins to include.\n",
    "    - k: number of nearest neighbors in signal‐space.\n",
    "\n",
    "    Returns:\n",
    "    - pd.DataFrame with columns ['predX','predY'].\n",
    "    \"\"\"\n",
    "    est_xy = []\n",
    "\n",
    "    # 2) Detect MAC columns (they all contain a colon)\n",
    "    signal_cols = [c for c in online_reshaped.columns if ':' in c]\n",
    "\n",
    "    for _, test_row in online_reshaped.iterrows():\n",
    "        # 3) Find the nearest orientation bins\n",
    "        target_bins = nearest_angles(test_row['orientation'], num_angles)\n",
    "\n",
    "        # 4) Subset offline to those bins\n",
    "        candidates = offline_summary[\n",
    "            offline_summary['orientation_rounded'].isin(target_bins)\n",
    "        ].copy()\n",
    "\n",
    "        # 5) Extract only the signal matrix and cast to float\n",
    "        sig_cand = candidates[signal_cols].astype(float)\n",
    "        sig_test = test_row[signal_cols].astype(float)\n",
    "\n",
    "        # 6) Compute Euclidean distances\n",
    "        diffs = sig_cand.subtract(sig_test, axis=1)  # DataFrame of floats\n",
    "        # now a purely numeric array\n",
    "        distances = np.linalg.norm(diffs.to_numpy(), axis=1)\n",
    "\n",
    "        candidates['signal_distance'] = distances\n",
    "\n",
    "        # 7) Pick k nearest and average their X/Y\n",
    "        neighbors = candidates.nsmallest(k, 'signal_distance')\n",
    "        est_x = neighbors['posX'].mean()\n",
    "        est_y = neighbors['posY'].mean()\n",
    "\n",
    "        est_xy.append([est_x, est_y])\n",
    "\n",
    "    return pd.DataFrame(est_xy, columns=['predX','predY'])\n"
   ],
   "id": "538074bc2d6d520d",
   "outputs": [],
   "execution_count": 6
  },
  {
   "metadata": {
    "ExecuteTime": {
     "end_time": "2025-05-16T02:40:07.349110Z",
     "start_time": "2025-05-16T02:40:07.335436Z"
    }
   },
   "cell_type": "code",
   "source": [
    "\n",
    "def plot_estimates(train, test, est_var, title='Estimated vs. Actual Positions'):\n",
    "    fig, ax = plt.subplots(figsize=(8, 6))\n",
    "      \n",
    "    ax.scatter(train['posX'], train['posY'], color=\"blue\", s=1, label='Training positions')\n",
    "    ax.scatter(test['posX'], test['posY'], color='green', s=10, label='True positions')\n",
    "    ax.scatter(est_var.iloc[:, 0], est_var.iloc[:, 1], color='red', s=10, label='Estimated positions')\n",
    "\n",
    "    # Draw lines between true and estimated positions\n",
    "    for i in range(len(est_var)):\n",
    "        x_coords = [test.iloc[i]['posX'], est_var.iloc[i, 0]]\n",
    "        y_coords = [test.iloc[i]['posY'], est_var.iloc[i, 1]]\n",
    "        ax.plot(x_coords, y_coords, color='red', alpha=0.3, linewidth=0.8)\n",
    "\n",
    "    ax.set_xlabel('X Position')\n",
    "    ax.set_ylabel('Y Position')\n",
    "    ax.set_title(title)\n",
    "    ax.legend()\n",
    "    ax.grid(True)\n",
    "    plt.tight_layout()\n",
    "    plt.show()\n"
   ],
   "id": "c64ed6ff5543588e",
   "outputs": [],
   "execution_count": 7
  },
  {
   "metadata": {
    "ExecuteTime": {
     "end_time": "2025-05-16T02:40:07.395753Z",
     "start_time": "2025-05-16T02:40:07.382092Z"
    }
   },
   "cell_type": "code",
   "source": [
    "\n",
    "def compute_position_rmse(pred_df, true_df,\n",
    "                          pred_cols=('predX','predY'),\n",
    "                          true_cols=('posX','posY')):\n",
    "    \"\"\"\n",
    "    Compute RMSE between predicted and actual 2D positions.\n",
    "\n",
    "    Parameters\n",
    "    ----------\n",
    "    pred_df : pd.DataFrame\n",
    "        Must contain columns pred_cols (default ('predX','predY')).\n",
    "    true_df : pd.DataFrame\n",
    "        Must contain columns true_cols (default ('posX','posY')).\n",
    "    pred_cols : tuple of str\n",
    "        Column names for the predictions in pred_df.\n",
    "    true_cols : tuple of str\n",
    "        Column names for the ground-truth positions in true_df.\n",
    "\n",
    "    Returns\n",
    "    -------\n",
    "    float\n",
    "        The root-mean-square error over all points:\n",
    "            sqrt(mean( (predX-posX)**2 + (predY-posY)**2 ))\n",
    "    \"\"\"\n",
    "    # extract and convert to numeric arrays\n",
    "    P = pred_df[list(pred_cols)].to_numpy(dtype=float)\n",
    "    T = true_df[list(true_cols)].to_numpy(dtype=float)\n",
    "\n",
    "    # squared errors per point\n",
    "    se = np.sum((P - T)**2, axis=1)\n",
    "\n",
    "    # mean + sqrt\n",
    "    rmse = np.sqrt(np.mean(se))\n",
    "    return rmse"
   ],
   "id": "5dec186a1c618e3",
   "outputs": [],
   "execution_count": 8
  },
  {
   "metadata": {
    "ExecuteTime": {
     "end_time": "2025-05-16T02:45:58.247848Z",
     "start_time": "2025-05-16T02:45:57.880435Z"
    }
   },
   "cell_type": "code",
   "source": [
    "online = read_data('./data/online.final.trace.txt')\n",
    "online_reshaped = preprocessing(online)\n",
    "online_reshaped_v2 = online_reshaped.copy()\n",
    "online_reshaped = online_reshaped[online_reshaped['mac'].isin(submacs)].copy()\n",
    "online_reshaped_v2 = online_reshaped_v2[online_reshaped_v2['mac'].isin(submacs_v2)].copy()\n",
    "display(online_reshaped.head(10))\n",
    "display(online_reshaped.info())\n"
   ],
   "id": "766ef65aa9542bfe",
   "outputs": [
    {
     "name": "stdout",
     "output_type": "stream",
     "text": [
      "Parsed 53303 measurements.\n",
      "reference APs: ['00:0f:a3:39:dd:cd', '00:0f:a3:39:e1:c0', '00:14:bf:b1:97:8a', '00:14:bf:b1:97:90', '00:14:bf:3b:c7:c6', '00:14:bf:b1:97:8d', '00:14:bf:b1:97:81']\n"
     ]
    },
    {
     "data": {
      "text/plain": [
       "          rawTime            scanMac  posX  posY  orientation  \\\n",
       "0   1139692477303  00:02:2D:21:0F:33   0.0  0.05        130.5   \n",
       "1   1139692477303  00:02:2D:21:0F:33   0.0  0.05        130.5   \n",
       "2   1139692477303  00:02:2D:21:0F:33   0.0  0.05        130.5   \n",
       "3   1139692477303  00:02:2D:21:0F:33   0.0  0.05        130.5   \n",
       "4   1139692477303  00:02:2D:21:0F:33   0.0  0.05        130.5   \n",
       "5   1139692477303  00:02:2D:21:0F:33   0.0  0.05        130.5   \n",
       "11  1139692477555  00:02:2D:21:0F:33   0.0  0.05        130.5   \n",
       "13  1139692477555  00:02:2D:21:0F:33   0.0  0.05        130.5   \n",
       "14  1139692477555  00:02:2D:21:0F:33   0.0  0.05        130.5   \n",
       "15  1139692477555  00:02:2D:21:0F:33   0.0  0.05        130.5   \n",
       "\n",
       "                  mac  signal     channel                    time     posXY  \\\n",
       "0   00:14:bf:b1:97:8a     -43  2437000000 2006-02-11 21:14:37.303  0.0-0.05   \n",
       "1   00:0f:a3:39:e1:c0     -52  2462000000 2006-02-11 21:14:37.303  0.0-0.05   \n",
       "2   00:14:bf:3b:c7:c6     -62  2432000000 2006-02-11 21:14:37.303  0.0-0.05   \n",
       "3   00:14:bf:b1:97:81     -58  2422000000 2006-02-11 21:14:37.303  0.0-0.05   \n",
       "4   00:14:bf:b1:97:8d     -62  2442000000 2006-02-11 21:14:37.303  0.0-0.05   \n",
       "5   00:14:bf:b1:97:90     -57  2427000000 2006-02-11 21:14:37.303  0.0-0.05   \n",
       "11  00:14:bf:b1:97:8a     -43  2437000000 2006-02-11 21:14:37.555  0.0-0.05   \n",
       "13  00:0f:a3:39:e1:c0     -52  2462000000 2006-02-11 21:14:37.555  0.0-0.05   \n",
       "14  00:14:bf:b1:97:90     -57  2427000000 2006-02-11 21:14:37.555  0.0-0.05   \n",
       "15  00:14:bf:b1:97:8d     -64  2442000000 2006-02-11 21:14:37.555  0.0-0.05   \n",
       "\n",
       "    orientation_rounded  \n",
       "0                   135  \n",
       "1                   135  \n",
       "2                   135  \n",
       "3                   135  \n",
       "4                   135  \n",
       "5                   135  \n",
       "11                  135  \n",
       "13                  135  \n",
       "14                  135  \n",
       "15                  135  "
      ],
      "text/html": [
       "<div>\n",
       "<style scoped>\n",
       "    .dataframe tbody tr th:only-of-type {\n",
       "        vertical-align: middle;\n",
       "    }\n",
       "\n",
       "    .dataframe tbody tr th {\n",
       "        vertical-align: top;\n",
       "    }\n",
       "\n",
       "    .dataframe thead th {\n",
       "        text-align: right;\n",
       "    }\n",
       "</style>\n",
       "<table border=\"1\" class=\"dataframe\">\n",
       "  <thead>\n",
       "    <tr style=\"text-align: right;\">\n",
       "      <th></th>\n",
       "      <th>rawTime</th>\n",
       "      <th>scanMac</th>\n",
       "      <th>posX</th>\n",
       "      <th>posY</th>\n",
       "      <th>orientation</th>\n",
       "      <th>mac</th>\n",
       "      <th>signal</th>\n",
       "      <th>channel</th>\n",
       "      <th>time</th>\n",
       "      <th>posXY</th>\n",
       "      <th>orientation_rounded</th>\n",
       "    </tr>\n",
       "  </thead>\n",
       "  <tbody>\n",
       "    <tr>\n",
       "      <th>0</th>\n",
       "      <td>1139692477303</td>\n",
       "      <td>00:02:2D:21:0F:33</td>\n",
       "      <td>0.0</td>\n",
       "      <td>0.05</td>\n",
       "      <td>130.5</td>\n",
       "      <td>00:14:bf:b1:97:8a</td>\n",
       "      <td>-43</td>\n",
       "      <td>2437000000</td>\n",
       "      <td>2006-02-11 21:14:37.303</td>\n",
       "      <td>0.0-0.05</td>\n",
       "      <td>135</td>\n",
       "    </tr>\n",
       "    <tr>\n",
       "      <th>1</th>\n",
       "      <td>1139692477303</td>\n",
       "      <td>00:02:2D:21:0F:33</td>\n",
       "      <td>0.0</td>\n",
       "      <td>0.05</td>\n",
       "      <td>130.5</td>\n",
       "      <td>00:0f:a3:39:e1:c0</td>\n",
       "      <td>-52</td>\n",
       "      <td>2462000000</td>\n",
       "      <td>2006-02-11 21:14:37.303</td>\n",
       "      <td>0.0-0.05</td>\n",
       "      <td>135</td>\n",
       "    </tr>\n",
       "    <tr>\n",
       "      <th>2</th>\n",
       "      <td>1139692477303</td>\n",
       "      <td>00:02:2D:21:0F:33</td>\n",
       "      <td>0.0</td>\n",
       "      <td>0.05</td>\n",
       "      <td>130.5</td>\n",
       "      <td>00:14:bf:3b:c7:c6</td>\n",
       "      <td>-62</td>\n",
       "      <td>2432000000</td>\n",
       "      <td>2006-02-11 21:14:37.303</td>\n",
       "      <td>0.0-0.05</td>\n",
       "      <td>135</td>\n",
       "    </tr>\n",
       "    <tr>\n",
       "      <th>3</th>\n",
       "      <td>1139692477303</td>\n",
       "      <td>00:02:2D:21:0F:33</td>\n",
       "      <td>0.0</td>\n",
       "      <td>0.05</td>\n",
       "      <td>130.5</td>\n",
       "      <td>00:14:bf:b1:97:81</td>\n",
       "      <td>-58</td>\n",
       "      <td>2422000000</td>\n",
       "      <td>2006-02-11 21:14:37.303</td>\n",
       "      <td>0.0-0.05</td>\n",
       "      <td>135</td>\n",
       "    </tr>\n",
       "    <tr>\n",
       "      <th>4</th>\n",
       "      <td>1139692477303</td>\n",
       "      <td>00:02:2D:21:0F:33</td>\n",
       "      <td>0.0</td>\n",
       "      <td>0.05</td>\n",
       "      <td>130.5</td>\n",
       "      <td>00:14:bf:b1:97:8d</td>\n",
       "      <td>-62</td>\n",
       "      <td>2442000000</td>\n",
       "      <td>2006-02-11 21:14:37.303</td>\n",
       "      <td>0.0-0.05</td>\n",
       "      <td>135</td>\n",
       "    </tr>\n",
       "    <tr>\n",
       "      <th>5</th>\n",
       "      <td>1139692477303</td>\n",
       "      <td>00:02:2D:21:0F:33</td>\n",
       "      <td>0.0</td>\n",
       "      <td>0.05</td>\n",
       "      <td>130.5</td>\n",
       "      <td>00:14:bf:b1:97:90</td>\n",
       "      <td>-57</td>\n",
       "      <td>2427000000</td>\n",
       "      <td>2006-02-11 21:14:37.303</td>\n",
       "      <td>0.0-0.05</td>\n",
       "      <td>135</td>\n",
       "    </tr>\n",
       "    <tr>\n",
       "      <th>11</th>\n",
       "      <td>1139692477555</td>\n",
       "      <td>00:02:2D:21:0F:33</td>\n",
       "      <td>0.0</td>\n",
       "      <td>0.05</td>\n",
       "      <td>130.5</td>\n",
       "      <td>00:14:bf:b1:97:8a</td>\n",
       "      <td>-43</td>\n",
       "      <td>2437000000</td>\n",
       "      <td>2006-02-11 21:14:37.555</td>\n",
       "      <td>0.0-0.05</td>\n",
       "      <td>135</td>\n",
       "    </tr>\n",
       "    <tr>\n",
       "      <th>13</th>\n",
       "      <td>1139692477555</td>\n",
       "      <td>00:02:2D:21:0F:33</td>\n",
       "      <td>0.0</td>\n",
       "      <td>0.05</td>\n",
       "      <td>130.5</td>\n",
       "      <td>00:0f:a3:39:e1:c0</td>\n",
       "      <td>-52</td>\n",
       "      <td>2462000000</td>\n",
       "      <td>2006-02-11 21:14:37.555</td>\n",
       "      <td>0.0-0.05</td>\n",
       "      <td>135</td>\n",
       "    </tr>\n",
       "    <tr>\n",
       "      <th>14</th>\n",
       "      <td>1139692477555</td>\n",
       "      <td>00:02:2D:21:0F:33</td>\n",
       "      <td>0.0</td>\n",
       "      <td>0.05</td>\n",
       "      <td>130.5</td>\n",
       "      <td>00:14:bf:b1:97:90</td>\n",
       "      <td>-57</td>\n",
       "      <td>2427000000</td>\n",
       "      <td>2006-02-11 21:14:37.555</td>\n",
       "      <td>0.0-0.05</td>\n",
       "      <td>135</td>\n",
       "    </tr>\n",
       "    <tr>\n",
       "      <th>15</th>\n",
       "      <td>1139692477555</td>\n",
       "      <td>00:02:2D:21:0F:33</td>\n",
       "      <td>0.0</td>\n",
       "      <td>0.05</td>\n",
       "      <td>130.5</td>\n",
       "      <td>00:14:bf:b1:97:8d</td>\n",
       "      <td>-64</td>\n",
       "      <td>2442000000</td>\n",
       "      <td>2006-02-11 21:14:37.555</td>\n",
       "      <td>0.0-0.05</td>\n",
       "      <td>135</td>\n",
       "    </tr>\n",
       "  </tbody>\n",
       "</table>\n",
       "</div>"
      ]
     },
     "metadata": {},
     "output_type": "display_data"
    },
    {
     "name": "stdout",
     "output_type": "stream",
     "text": [
      "<class 'pandas.core.frame.DataFrame'>\n",
      "Index: 34166 entries, 0 to 53300\n",
      "Data columns (total 11 columns):\n",
      " #   Column               Non-Null Count  Dtype         \n",
      "---  ------               --------------  -----         \n",
      " 0   rawTime              34166 non-null  int64         \n",
      " 1   scanMac              34166 non-null  object        \n",
      " 2   posX                 34166 non-null  float64       \n",
      " 3   posY                 34166 non-null  float64       \n",
      " 4   orientation          34166 non-null  float64       \n",
      " 5   mac                  34166 non-null  object        \n",
      " 6   signal               34166 non-null  int64         \n",
      " 7   channel              34166 non-null  int64         \n",
      " 8   time                 34166 non-null  datetime64[ns]\n",
      " 9   posXY                34166 non-null  object        \n",
      " 10  orientation_rounded  34166 non-null  int64         \n",
      "dtypes: datetime64[ns](1), float64(3), int64(4), object(3)\n",
      "memory usage: 3.1+ MB\n"
     ]
    },
    {
     "data": {
      "text/plain": [
       "None"
      ]
     },
     "metadata": {},
     "output_type": "display_data"
    },
    {
     "name": "stdout",
     "output_type": "stream",
     "text": [
      "<class 'pandas.core.frame.DataFrame'>\n",
      "Index: 34189 entries, 0 to 53301\n",
      "Data columns (total 11 columns):\n",
      " #   Column               Non-Null Count  Dtype         \n",
      "---  ------               --------------  -----         \n",
      " 0   rawTime              34189 non-null  int64         \n",
      " 1   scanMac              34189 non-null  object        \n",
      " 2   posX                 34189 non-null  float64       \n",
      " 3   posY                 34189 non-null  float64       \n",
      " 4   orientation          34189 non-null  float64       \n",
      " 5   mac                  34189 non-null  object        \n",
      " 6   signal               34189 non-null  int64         \n",
      " 7   channel              34189 non-null  int64         \n",
      " 8   time                 34189 non-null  datetime64[ns]\n",
      " 9   posXY                34189 non-null  object        \n",
      " 10  orientation_rounded  34189 non-null  int64         \n",
      "dtypes: datetime64[ns](1), float64(3), int64(4), object(3)\n",
      "memory usage: 3.1+ MB\n"
     ]
    },
    {
     "data": {
      "text/plain": [
       "None"
      ]
     },
     "metadata": {},
     "output_type": "display_data"
    }
   ],
   "execution_count": 36
  },
  {
   "metadata": {
    "ExecuteTime": {
     "end_time": "2025-05-16T03:09:45.847290Z",
     "start_time": "2025-05-16T03:09:45.791407Z"
    }
   },
   "cell_type": "code",
   "source": [
    "online_reshaped = APsignals(online_reshaped, columns=[\"posXY\", \"posX\", \"posY\", \"orientation\"])\n",
    "online_reshaped_v2 = APsignals(online_reshaped_v2, columns=[\"posXY\", \"posX\", \"posY\", \"orientation\"])\n",
    "display(online_reshaped.head(10))"
   ],
   "id": "4e42fefdda5f5f03",
   "outputs": [
    {
     "data": {
      "text/plain": [
       "mac       posXY  posX   posY  orientation  00:0f:a3:39:e1:c0  \\\n",
       "0      0.0-0.05  0.00   0.05        130.5         -52.227273   \n",
       "1     0.15-9.42  0.15   9.42        112.3         -55.275229   \n",
       "2    0.31-11.09  0.31  11.09        230.1         -51.709091   \n",
       "3      0.47-8.2  0.47   8.20          5.8         -49.500000   \n",
       "4    0.78-10.94  0.78  10.94        348.3         -53.263636   \n",
       "5    0.93-11.69  0.93  11.69        158.3         -57.963636   \n",
       "6    1.08-12.19  1.08  12.19        229.1         -54.827273   \n",
       "7     1.24-3.93  1.24   3.93        261.5         -56.472727   \n",
       "8     1.39-6.61  1.39   6.61        114.1         -51.281818   \n",
       "9     1.52-9.32  1.52   9.32          7.0         -50.383178   \n",
       "\n",
       "mac  00:14:bf:3b:c7:c6  00:14:bf:b1:97:81  00:14:bf:b1:97:8a  \\\n",
       "0           -62.937500         -61.813953         -40.056075   \n",
       "1           -74.122449         -72.692308         -47.828283   \n",
       "2           -70.063158         -70.077778         -54.070707   \n",
       "3           -64.163043         -72.511905         -45.610619   \n",
       "4           -66.915789         -66.722892         -48.379630   \n",
       "5           -70.336538         -70.618421         -43.660000   \n",
       "6           -69.165049         -67.855556         -52.183486   \n",
       "7           -69.583333         -59.761364         -38.893617   \n",
       "8           -62.230769         -64.548780         -48.956522   \n",
       "9           -63.370000         -67.444444         -50.021277   \n",
       "\n",
       "mac  00:14:bf:b1:97:8d  00:14:bf:b1:97:90  \n",
       "0           -63.043478         -55.193182  \n",
       "1           -69.454545         -46.880000  \n",
       "2           -69.133333         -53.895833  \n",
       "3           -60.797468         -49.606061  \n",
       "4           -65.000000         -54.846939  \n",
       "5           -65.593023         -47.270833  \n",
       "6           -71.593407         -51.682243  \n",
       "7           -71.647059         -53.233333  \n",
       "8           -60.797980         -50.480769  \n",
       "9           -65.071429         -49.385417  "
      ],
      "text/html": [
       "<div>\n",
       "<style scoped>\n",
       "    .dataframe tbody tr th:only-of-type {\n",
       "        vertical-align: middle;\n",
       "    }\n",
       "\n",
       "    .dataframe tbody tr th {\n",
       "        vertical-align: top;\n",
       "    }\n",
       "\n",
       "    .dataframe thead th {\n",
       "        text-align: right;\n",
       "    }\n",
       "</style>\n",
       "<table border=\"1\" class=\"dataframe\">\n",
       "  <thead>\n",
       "    <tr style=\"text-align: right;\">\n",
       "      <th>mac</th>\n",
       "      <th>posXY</th>\n",
       "      <th>posX</th>\n",
       "      <th>posY</th>\n",
       "      <th>orientation</th>\n",
       "      <th>00:0f:a3:39:e1:c0</th>\n",
       "      <th>00:14:bf:3b:c7:c6</th>\n",
       "      <th>00:14:bf:b1:97:81</th>\n",
       "      <th>00:14:bf:b1:97:8a</th>\n",
       "      <th>00:14:bf:b1:97:8d</th>\n",
       "      <th>00:14:bf:b1:97:90</th>\n",
       "    </tr>\n",
       "  </thead>\n",
       "  <tbody>\n",
       "    <tr>\n",
       "      <th>0</th>\n",
       "      <td>0.0-0.05</td>\n",
       "      <td>0.00</td>\n",
       "      <td>0.05</td>\n",
       "      <td>130.5</td>\n",
       "      <td>-52.227273</td>\n",
       "      <td>-62.937500</td>\n",
       "      <td>-61.813953</td>\n",
       "      <td>-40.056075</td>\n",
       "      <td>-63.043478</td>\n",
       "      <td>-55.193182</td>\n",
       "    </tr>\n",
       "    <tr>\n",
       "      <th>1</th>\n",
       "      <td>0.15-9.42</td>\n",
       "      <td>0.15</td>\n",
       "      <td>9.42</td>\n",
       "      <td>112.3</td>\n",
       "      <td>-55.275229</td>\n",
       "      <td>-74.122449</td>\n",
       "      <td>-72.692308</td>\n",
       "      <td>-47.828283</td>\n",
       "      <td>-69.454545</td>\n",
       "      <td>-46.880000</td>\n",
       "    </tr>\n",
       "    <tr>\n",
       "      <th>2</th>\n",
       "      <td>0.31-11.09</td>\n",
       "      <td>0.31</td>\n",
       "      <td>11.09</td>\n",
       "      <td>230.1</td>\n",
       "      <td>-51.709091</td>\n",
       "      <td>-70.063158</td>\n",
       "      <td>-70.077778</td>\n",
       "      <td>-54.070707</td>\n",
       "      <td>-69.133333</td>\n",
       "      <td>-53.895833</td>\n",
       "    </tr>\n",
       "    <tr>\n",
       "      <th>3</th>\n",
       "      <td>0.47-8.2</td>\n",
       "      <td>0.47</td>\n",
       "      <td>8.20</td>\n",
       "      <td>5.8</td>\n",
       "      <td>-49.500000</td>\n",
       "      <td>-64.163043</td>\n",
       "      <td>-72.511905</td>\n",
       "      <td>-45.610619</td>\n",
       "      <td>-60.797468</td>\n",
       "      <td>-49.606061</td>\n",
       "    </tr>\n",
       "    <tr>\n",
       "      <th>4</th>\n",
       "      <td>0.78-10.94</td>\n",
       "      <td>0.78</td>\n",
       "      <td>10.94</td>\n",
       "      <td>348.3</td>\n",
       "      <td>-53.263636</td>\n",
       "      <td>-66.915789</td>\n",
       "      <td>-66.722892</td>\n",
       "      <td>-48.379630</td>\n",
       "      <td>-65.000000</td>\n",
       "      <td>-54.846939</td>\n",
       "    </tr>\n",
       "    <tr>\n",
       "      <th>5</th>\n",
       "      <td>0.93-11.69</td>\n",
       "      <td>0.93</td>\n",
       "      <td>11.69</td>\n",
       "      <td>158.3</td>\n",
       "      <td>-57.963636</td>\n",
       "      <td>-70.336538</td>\n",
       "      <td>-70.618421</td>\n",
       "      <td>-43.660000</td>\n",
       "      <td>-65.593023</td>\n",
       "      <td>-47.270833</td>\n",
       "    </tr>\n",
       "    <tr>\n",
       "      <th>6</th>\n",
       "      <td>1.08-12.19</td>\n",
       "      <td>1.08</td>\n",
       "      <td>12.19</td>\n",
       "      <td>229.1</td>\n",
       "      <td>-54.827273</td>\n",
       "      <td>-69.165049</td>\n",
       "      <td>-67.855556</td>\n",
       "      <td>-52.183486</td>\n",
       "      <td>-71.593407</td>\n",
       "      <td>-51.682243</td>\n",
       "    </tr>\n",
       "    <tr>\n",
       "      <th>7</th>\n",
       "      <td>1.24-3.93</td>\n",
       "      <td>1.24</td>\n",
       "      <td>3.93</td>\n",
       "      <td>261.5</td>\n",
       "      <td>-56.472727</td>\n",
       "      <td>-69.583333</td>\n",
       "      <td>-59.761364</td>\n",
       "      <td>-38.893617</td>\n",
       "      <td>-71.647059</td>\n",
       "      <td>-53.233333</td>\n",
       "    </tr>\n",
       "    <tr>\n",
       "      <th>8</th>\n",
       "      <td>1.39-6.61</td>\n",
       "      <td>1.39</td>\n",
       "      <td>6.61</td>\n",
       "      <td>114.1</td>\n",
       "      <td>-51.281818</td>\n",
       "      <td>-62.230769</td>\n",
       "      <td>-64.548780</td>\n",
       "      <td>-48.956522</td>\n",
       "      <td>-60.797980</td>\n",
       "      <td>-50.480769</td>\n",
       "    </tr>\n",
       "    <tr>\n",
       "      <th>9</th>\n",
       "      <td>1.52-9.32</td>\n",
       "      <td>1.52</td>\n",
       "      <td>9.32</td>\n",
       "      <td>7.0</td>\n",
       "      <td>-50.383178</td>\n",
       "      <td>-63.370000</td>\n",
       "      <td>-67.444444</td>\n",
       "      <td>-50.021277</td>\n",
       "      <td>-65.071429</td>\n",
       "      <td>-49.385417</td>\n",
       "    </tr>\n",
       "  </tbody>\n",
       "</table>\n",
       "</div>"
      ]
     },
     "metadata": {},
     "output_type": "display_data"
    }
   ],
   "execution_count": 46
  },
  {
   "metadata": {
    "ExecuteTime": {
     "end_time": "2025-05-16T02:40:08.406354Z",
     "start_time": "2025-05-16T02:40:08.014416Z"
    }
   },
   "cell_type": "code",
   "source": [
    "offline_summary = APsignals(offline)\n",
    "offline_summary_v2 = APsignals(offline_v2)\n",
    "display(offline_summary.head(10))"
   ],
   "id": "33b7912ed6da71b5",
   "outputs": [
    {
     "data": {
      "text/plain": [
       "mac    posXY  posX  posY  orientation  orientation_rounded  00:0f:a3:39:e1:c0  \\\n",
       "0    0.0-0.0   0.0   0.0          0.0                    0         -51.154545   \n",
       "1    0.0-0.0   0.0   0.0         45.2                   45         -57.445455   \n",
       "2    0.0-0.0   0.0   0.0         90.3                   90         -50.585586   \n",
       "3    0.0-0.0   0.0   0.0        135.9                  135         -51.517857   \n",
       "4    0.0-0.0   0.0   0.0        180.3                  180         -55.027273   \n",
       "5    0.0-0.0   0.0   0.0        225.6                  225         -54.627273   \n",
       "6    0.0-0.0   0.0   0.0        270.1                  270         -54.636364   \n",
       "7    0.0-0.0   0.0   0.0        315.0                  315         -52.827273   \n",
       "8    0.0-1.0   0.0   1.0          0.7                    0         -50.572727   \n",
       "9    0.0-1.0   0.0   1.0         45.7                   45         -52.600000   \n",
       "\n",
       "mac  00:14:bf:3b:c7:c6  00:14:bf:b1:97:81  00:14:bf:b1:97:8a  \\\n",
       "0           -66.510870         -64.054348         -39.161290   \n",
       "1           -67.468085         -62.420455         -43.148936   \n",
       "2           -62.595506         -63.747253         -33.744681   \n",
       "3           -67.476190         -63.366667         -39.103093   \n",
       "4           -68.295238         -62.428571         -33.970000   \n",
       "5           -64.891304         -64.012048         -36.247312   \n",
       "6           -67.931373         -68.060976         -38.593750   \n",
       "7           -64.150000         -68.174419         -46.989247   \n",
       "8           -66.894118         -70.400000         -42.750000   \n",
       "9           -68.947917         -61.165049         -42.180851   \n",
       "\n",
       "mac  00:14:bf:b1:97:8d  00:14:bf:b1:97:90  \n",
       "0           -67.310345         -56.394231  \n",
       "1           -68.719512         -56.465909  \n",
       "2           -63.085366         -55.170213  \n",
       "3           -63.632911         -54.322581  \n",
       "4           -65.978022         -56.500000  \n",
       "5           -66.208791         -54.112245  \n",
       "6           -64.313953         -57.946809  \n",
       "7           -68.024390         -59.272727  \n",
       "8           -63.022989         -56.861702  \n",
       "9           -64.585366         -59.274725  "
      ],
      "text/html": [
       "<div>\n",
       "<style scoped>\n",
       "    .dataframe tbody tr th:only-of-type {\n",
       "        vertical-align: middle;\n",
       "    }\n",
       "\n",
       "    .dataframe tbody tr th {\n",
       "        vertical-align: top;\n",
       "    }\n",
       "\n",
       "    .dataframe thead th {\n",
       "        text-align: right;\n",
       "    }\n",
       "</style>\n",
       "<table border=\"1\" class=\"dataframe\">\n",
       "  <thead>\n",
       "    <tr style=\"text-align: right;\">\n",
       "      <th>mac</th>\n",
       "      <th>posXY</th>\n",
       "      <th>posX</th>\n",
       "      <th>posY</th>\n",
       "      <th>orientation</th>\n",
       "      <th>orientation_rounded</th>\n",
       "      <th>00:0f:a3:39:e1:c0</th>\n",
       "      <th>00:14:bf:3b:c7:c6</th>\n",
       "      <th>00:14:bf:b1:97:81</th>\n",
       "      <th>00:14:bf:b1:97:8a</th>\n",
       "      <th>00:14:bf:b1:97:8d</th>\n",
       "      <th>00:14:bf:b1:97:90</th>\n",
       "    </tr>\n",
       "  </thead>\n",
       "  <tbody>\n",
       "    <tr>\n",
       "      <th>0</th>\n",
       "      <td>0.0-0.0</td>\n",
       "      <td>0.0</td>\n",
       "      <td>0.0</td>\n",
       "      <td>0.0</td>\n",
       "      <td>0</td>\n",
       "      <td>-51.154545</td>\n",
       "      <td>-66.510870</td>\n",
       "      <td>-64.054348</td>\n",
       "      <td>-39.161290</td>\n",
       "      <td>-67.310345</td>\n",
       "      <td>-56.394231</td>\n",
       "    </tr>\n",
       "    <tr>\n",
       "      <th>1</th>\n",
       "      <td>0.0-0.0</td>\n",
       "      <td>0.0</td>\n",
       "      <td>0.0</td>\n",
       "      <td>45.2</td>\n",
       "      <td>45</td>\n",
       "      <td>-57.445455</td>\n",
       "      <td>-67.468085</td>\n",
       "      <td>-62.420455</td>\n",
       "      <td>-43.148936</td>\n",
       "      <td>-68.719512</td>\n",
       "      <td>-56.465909</td>\n",
       "    </tr>\n",
       "    <tr>\n",
       "      <th>2</th>\n",
       "      <td>0.0-0.0</td>\n",
       "      <td>0.0</td>\n",
       "      <td>0.0</td>\n",
       "      <td>90.3</td>\n",
       "      <td>90</td>\n",
       "      <td>-50.585586</td>\n",
       "      <td>-62.595506</td>\n",
       "      <td>-63.747253</td>\n",
       "      <td>-33.744681</td>\n",
       "      <td>-63.085366</td>\n",
       "      <td>-55.170213</td>\n",
       "    </tr>\n",
       "    <tr>\n",
       "      <th>3</th>\n",
       "      <td>0.0-0.0</td>\n",
       "      <td>0.0</td>\n",
       "      <td>0.0</td>\n",
       "      <td>135.9</td>\n",
       "      <td>135</td>\n",
       "      <td>-51.517857</td>\n",
       "      <td>-67.476190</td>\n",
       "      <td>-63.366667</td>\n",
       "      <td>-39.103093</td>\n",
       "      <td>-63.632911</td>\n",
       "      <td>-54.322581</td>\n",
       "    </tr>\n",
       "    <tr>\n",
       "      <th>4</th>\n",
       "      <td>0.0-0.0</td>\n",
       "      <td>0.0</td>\n",
       "      <td>0.0</td>\n",
       "      <td>180.3</td>\n",
       "      <td>180</td>\n",
       "      <td>-55.027273</td>\n",
       "      <td>-68.295238</td>\n",
       "      <td>-62.428571</td>\n",
       "      <td>-33.970000</td>\n",
       "      <td>-65.978022</td>\n",
       "      <td>-56.500000</td>\n",
       "    </tr>\n",
       "    <tr>\n",
       "      <th>5</th>\n",
       "      <td>0.0-0.0</td>\n",
       "      <td>0.0</td>\n",
       "      <td>0.0</td>\n",
       "      <td>225.6</td>\n",
       "      <td>225</td>\n",
       "      <td>-54.627273</td>\n",
       "      <td>-64.891304</td>\n",
       "      <td>-64.012048</td>\n",
       "      <td>-36.247312</td>\n",
       "      <td>-66.208791</td>\n",
       "      <td>-54.112245</td>\n",
       "    </tr>\n",
       "    <tr>\n",
       "      <th>6</th>\n",
       "      <td>0.0-0.0</td>\n",
       "      <td>0.0</td>\n",
       "      <td>0.0</td>\n",
       "      <td>270.1</td>\n",
       "      <td>270</td>\n",
       "      <td>-54.636364</td>\n",
       "      <td>-67.931373</td>\n",
       "      <td>-68.060976</td>\n",
       "      <td>-38.593750</td>\n",
       "      <td>-64.313953</td>\n",
       "      <td>-57.946809</td>\n",
       "    </tr>\n",
       "    <tr>\n",
       "      <th>7</th>\n",
       "      <td>0.0-0.0</td>\n",
       "      <td>0.0</td>\n",
       "      <td>0.0</td>\n",
       "      <td>315.0</td>\n",
       "      <td>315</td>\n",
       "      <td>-52.827273</td>\n",
       "      <td>-64.150000</td>\n",
       "      <td>-68.174419</td>\n",
       "      <td>-46.989247</td>\n",
       "      <td>-68.024390</td>\n",
       "      <td>-59.272727</td>\n",
       "    </tr>\n",
       "    <tr>\n",
       "      <th>8</th>\n",
       "      <td>0.0-1.0</td>\n",
       "      <td>0.0</td>\n",
       "      <td>1.0</td>\n",
       "      <td>0.7</td>\n",
       "      <td>0</td>\n",
       "      <td>-50.572727</td>\n",
       "      <td>-66.894118</td>\n",
       "      <td>-70.400000</td>\n",
       "      <td>-42.750000</td>\n",
       "      <td>-63.022989</td>\n",
       "      <td>-56.861702</td>\n",
       "    </tr>\n",
       "    <tr>\n",
       "      <th>9</th>\n",
       "      <td>0.0-1.0</td>\n",
       "      <td>0.0</td>\n",
       "      <td>1.0</td>\n",
       "      <td>45.7</td>\n",
       "      <td>45</td>\n",
       "      <td>-52.600000</td>\n",
       "      <td>-68.947917</td>\n",
       "      <td>-61.165049</td>\n",
       "      <td>-42.180851</td>\n",
       "      <td>-64.585366</td>\n",
       "      <td>-59.274725</td>\n",
       "    </tr>\n",
       "  </tbody>\n",
       "</table>\n",
       "</div>"
      ]
     },
     "metadata": {},
     "output_type": "display_data"
    }
   ],
   "execution_count": 11
  },
  {
   "metadata": {
    "ExecuteTime": {
     "end_time": "2025-05-16T02:40:08.781385Z",
     "start_time": "2025-05-16T02:40:08.442884Z"
    }
   },
   "cell_type": "code",
   "source": [
    "est_xy_m1_k1 =pred_xy(online_reshaped, offline_summary,num_angles=1, k=1)\n",
    " \n",
    "plot_estimates(offline_summary, online_reshaped, est_xy_m1_k1)"
   ],
   "id": "fc3912912d69b2f6",
   "outputs": [
    {
     "data": {
      "text/plain": [
       "<Figure size 800x600 with 1 Axes>"
      ],
      "image/png": "[encoded data removed]"
     },
     "metadata": {},
     "output_type": "display_data"
    }
   ],
   "execution_count": 12
  },
  {
   "metadata": {
    "ExecuteTime": {
     "end_time": "2025-05-16T02:40:08.827818Z",
     "start_time": "2025-05-16T02:40:08.814342Z"
    }
   },
   "cell_type": "code",
   "source": "compute_position_rmse(est_xy_m1_k1, online_reshaped)",
   "id": "3cdbe473429fb21f",
   "outputs": [
    {
     "data": {
      "text/plain": [
       "3.649112574400132"
      ]
     },
     "execution_count": 13,
     "metadata": {},
     "output_type": "execute_result"
    }
   ],
   "execution_count": 13
  },
  {
   "metadata": {
    "ExecuteTime": {
     "end_time": "2025-05-16T02:40:09.253222Z",
     "start_time": "2025-05-16T02:40:08.923603Z"
    }
   },
   "cell_type": "code",
   "source": [
    "est_xy_m3_k3=pred_xy(online_reshaped, offline_summary,num_angles=3, k=3)\n",
    "plot_estimates(offline_summary, online_reshaped, est_xy_m3_k3)"
   ],
   "id": "c00a4379b08ad0d0",
   "outputs": [
    {
     "data": {
      "text/plain": [
       "<Figure size 800x600 with 1 Axes>"
      ],
      "image/png": "[encoded data removed]"
     },
     "metadata": {},
     "output_type": "display_data"
    }
   ],
   "execution_count": 14
  },
  {
   "metadata": {
    "ExecuteTime": {
     "end_time": "2025-05-16T02:40:09.299931Z",
     "start_time": "2025-05-16T02:40:09.278811Z"
    }
   },
   "cell_type": "code",
   "source": "compute_position_rmse(est_xy_m3_k3, online_reshaped)",
   "id": "b40acd7dadc45759",
   "outputs": [
    {
     "data": {
      "text/plain": [
       "2.4384688038863405"
      ]
     },
     "execution_count": 15,
     "metadata": {},
     "output_type": "execute_result"
    }
   ],
   "execution_count": 15
  },
  {
   "metadata": {
    "ExecuteTime": {
     "end_time": "2025-05-16T02:40:09.658240Z",
     "start_time": "2025-05-16T02:40:09.349938Z"
    }
   },
   "cell_type": "code",
   "source": [
    "est_xy_m3_k5=pred_xy(online_reshaped, offline_summary,num_angles=3, k=5)\n",
    "plot_estimates(offline_summary, online_reshaped, est_xy_m3_k5)"
   ],
   "id": "300637faed986fe",
   "outputs": [
    {
     "data": {
      "text/plain": [
       "<Figure size 800x600 with 1 Axes>"
      ],
      "image/png": "[encoded data removed]"
     },
     "metadata": {},
     "output_type": "display_data"
    }
   ],
   "execution_count": 16
  },
  {
   "metadata": {
    "ExecuteTime": {
     "end_time": "2025-05-16T02:40:09.722179Z",
     "start_time": "2025-05-16T02:40:09.708128Z"
    }
   },
   "cell_type": "code",
   "source": "compute_position_rmse(est_xy_m3_k5, online_reshaped)",
   "id": "22c31fdf29d4ee95",
   "outputs": [
    {
     "data": {
      "text/plain": [
       "2.167819627063993"
      ]
     },
     "execution_count": 17,
     "metadata": {},
     "output_type": "execute_result"
    }
   ],
   "execution_count": 17
  },
  {
   "metadata": {},
   "cell_type": "markdown",
   "source": [
    "### Parameter selection and cross validation\n",
    "\n",
    "The question of which value for k is the best, still remains, as well as the choce of m, the number of angles to condider.\n",
    "\n",
    "Ideally, we want to choose the value of k independent of our test data so that we do not overfit our model to the training data. \n",
    "\n",
    "The method of v-fold cross-validation can help us do this:\n",
    "\n",
    "we divide our training data into v non-overlapping subsets of equal size.\n",
    "\n",
    "for each subset, we build models with the data that are not in that subset\n",
    "\n",
    "and we assess the predictive ability of the model using the subset that was left out\n",
    "\n",
    "We repeat this model fitting and assessment for each of the v folds and aggregate the prediction errors across the folds.\n",
    "\n",
    "Recall that we have 166 locations, each with 8 orientations and measurements from 6 AP. We want to select one orientation at random for each location. \n"
   ],
   "id": "23111ca114516cc4"
  },
  {
   "metadata": {
    "ExecuteTime": {
     "end_time": "2025-05-16T02:40:09.783877Z",
     "start_time": "2025-05-16T02:40:09.768837Z"
    }
   },
   "cell_type": "code",
   "source": "",
   "id": "233fb8d01200a3f1",
   "outputs": [],
   "execution_count": null
  },
  {
   "metadata": {
    "ExecuteTime": {
     "end_time": "2025-05-16T02:40:09.926191Z",
     "start_time": "2025-05-16T02:40:09.833945Z"
    }
   },
   "cell_type": "code",
   "source": [
    "from sklearn.model_selection import train_test_split, KFold, GridSearchCV\n",
    "\n",
    "from sklearn.base import BaseEstimator, RegressorMixin\n",
    "\n",
    "class KNNIndoorLocator(BaseEstimator, RegressorMixin):\n",
    "    def __init__(self, k=5, m=3, eps=1e-6):\n",
    "        self.k = k\n",
    "        self.m = m\n",
    "        self.eps = eps\n",
    "\n",
    "    def fit(self, X, y):\n",
    "        # X: DataFrame with orientation_rounded + MAC cols\n",
    "        # y: array (n_samples,2) with [posX,posY]\n",
    "        df = X.reset_index(drop=True).copy()\n",
    "        df['posX'], df['posY'] = y[:,0], y[:,1]\n",
    "        if 'orientation_rounded' not in df.columns and 'orientation' in df.columns:\n",
    "            df['orientation_rounded'] = (\n",
    "                df['orientation'].astype(float).apply(round_orientation)\n",
    "            )\n",
    "        self.offline_summary_ = df\n",
    "        return self\n",
    "\n",
    "    def predict(self, X):\n",
    "        preds = pred_xy(\n",
    "            online_reshaped = X.reset_index(drop=True),\n",
    "            offline_summary  = self.offline_summary_,\n",
    "            num_angles       = self.m,\n",
    "            k                = self.k\n",
    "        )\n",
    "        return preds[['predX','predY']].to_numpy()\n"
   ],
   "id": "5ad6848d3d445e3",
   "outputs": [],
   "execution_count": 18
  },
  {
   "metadata": {
    "ExecuteTime": {
     "end_time": "2025-05-16T02:54:02.746467Z",
     "start_time": "2025-05-16T02:54:02.727429Z"
    }
   },
   "cell_type": "code",
   "source": [
    "X = offline_summary.drop(columns=['posX', 'posY'])\n",
    "y = offline_summary[['posX', 'posY']].to_numpy()\n",
    "\n",
    "X_v2 = offline_summary_v2.drop(columns=['posX', 'posY'])\n",
    "y_v2 = offline_summary_v2[['posX', 'posY']].to_numpy()\n",
    "\n",
    "\n",
    "# Set up a CV for GridSearch:\n",
    "cv = KFold(n_splits=5, shuffle=True, random_state=42)\n",
    "\n",
    "def grid_search(param_grid, X_data, y_data):\n",
    "\n",
    "    grid = GridSearchCV(\n",
    "        estimator = KNNIndoorLocator(),\n",
    "        param_grid = param_grid,\n",
    "        cv = cv,\n",
    "        scoring = 'neg_root_mean_squared_error',  # built-in RMSE scorer (negated)\n",
    "        n_jobs = -1,\n",
    "        verbose = 1,\n",
    "        error_score = 'raise'\n",
    "    )\n",
    "    \n",
    "    # Run the grid search on the TRAINING split:\n",
    "    grid.fit(X_data, y_data)\n",
    "    \n",
    "    print(\"Best hyperparameters:\", grid.best_params_)\n",
    "    print(\"Best CV RMSE:\", -grid.best_score_)\n",
    "\n"
   ],
   "id": "912bdd78d0ac2369",
   "outputs": [],
   "execution_count": 39
  },
  {
   "metadata": {
    "ExecuteTime": {
     "end_time": "2025-05-16T02:54:28.151476Z",
     "start_time": "2025-05-16T02:54:16.558051Z"
    }
   },
   "cell_type": "code",
   "source": "grid_search({'k': [1, 5, 10, 15, 20], 'm': [1, 2, 3, 4, 5]}, X, y)",
   "id": "6a9a8c5d6aee0a52",
   "outputs": [
    {
     "name": "stdout",
     "output_type": "stream",
     "text": [
      "Fitting 5 folds for each of 25 candidates, totalling 125 fits\n",
      "Best hyperparameters: {'k': 10, 'm': 4}\n",
      "Best CV RMSE: 1.9028149375320484\n"
     ]
    }
   ],
   "execution_count": 40
  },
  {
   "metadata": {
    "ExecuteTime": {
     "end_time": "2025-05-16T02:54:39.129891Z",
     "start_time": "2025-05-16T02:54:30.191066Z"
    }
   },
   "cell_type": "code",
   "source": "grid_search({'k': [7,8,9,10,11,12,13], 'm': [3, 4, 5]}, X, y)",
   "id": "84ca1d4846622af4",
   "outputs": [
    {
     "name": "stdout",
     "output_type": "stream",
     "text": [
      "Fitting 5 folds for each of 21 candidates, totalling 105 fits\n",
      "Best hyperparameters: {'k': 8, 'm': 4}\n",
      "Best CV RMSE: 1.8981194399433527\n"
     ]
    }
   ],
   "execution_count": 41
  },
  {
   "metadata": {
    "ExecuteTime": {
     "end_time": "2025-05-16T02:40:27.042254Z",
     "start_time": "2025-05-16T02:40:26.717855Z"
    }
   },
   "cell_type": "code",
   "source": [
    "est_xy_m4_k10=pred_xy(online_reshaped, offline_summary,num_angles=4, k=10)\n",
    "plot_estimates(offline_summary, online_reshaped, est_xy_m4_k10)"
   ],
   "id": "692e3b9276d70877",
   "outputs": [
    {
     "data": {
      "text/plain": [
       "<Figure size 800x600 with 1 Axes>"
      ],
      "image/png": "[encoded data removed]"
     },
     "metadata": {},
     "output_type": "display_data"
    }
   ],
   "execution_count": 22
  },
  {
   "metadata": {
    "ExecuteTime": {
     "end_time": "2025-05-16T03:11:16.978905Z",
     "start_time": "2025-05-16T03:11:16.965582Z"
    }
   },
   "cell_type": "code",
   "source": [
    "basic_RMSE = compute_position_rmse(est_xy_m4_k10, online_reshaped)\n",
    "basic_RMSE"
   ],
   "id": "20fc6e40e9a4c695",
   "outputs": [
    {
     "data": {
      "text/plain": [
       "2.1183354694878527"
      ]
     },
     "execution_count": 50,
     "metadata": {},
     "output_type": "execute_result"
    }
   ],
   "execution_count": 50
  },
  {
   "metadata": {},
   "cell_type": "markdown",
   "source": "## Weighted KNN",
   "id": "65a0931964bdf3a5"
  },
  {
   "metadata": {
    "ExecuteTime": {
     "end_time": "2025-05-16T02:40:27.216600Z",
     "start_time": "2025-05-16T02:40:27.202606Z"
    }
   },
   "cell_type": "code",
   "source": [
    "import numpy as np\n",
    "import pandas as pd\n",
    "\n",
    "def pred_xy_weighted(online_reshaped, offline_summary, num_angles=1, k=3, eps=1e-6):\n",
    "    \"\"\"\n",
    "    Estimate X,Y coordinates for each new observation by finding the k closest\n",
    "    records in offline_summary that have one of the num_angles nearest orientations,\n",
    "    then computing the weighted average of their positions with weights\n",
    "    w_i = (1 / (d_i + eps)) / sum_j(1 / (d_j + eps)).\n",
    "\n",
    "    Parameters:\n",
    "    - online_reshaped: pd.DataFrame with an 'orientation' or 'orientation_rounded' column\n",
    "      plus one column per MAC (e.g. '00:11:22:33:44:55').\n",
    "    - offline_summary: pd.DataFrame with ['posX','posY','orientation_rounded'] plus\n",
    "      the same MAC‐columns.\n",
    "    - num_angles: how many adjacent 45° bins to include.\n",
    "    - k: number of nearest neighbors in signal‐space.\n",
    "    - eps: small constant to avoid division by zero.\n",
    "\n",
    "    Returns:\n",
    "    - pd.DataFrame with columns ['predX','predY','distances'], where 'distances' is\n",
    "      a list of the k raw signal‐distances used for each test row.\n",
    "    \"\"\"\n",
    "    est_xy = []\n",
    "    all_distances = []\n",
    "\n",
    "    # Detect MAC columns (they all contain a colon)\n",
    "    signal_cols = [c for c in online_reshaped.columns if ':' in c]\n",
    "\n",
    "    for _, test_row in online_reshaped.iterrows():\n",
    "        # 1) Find the nearest orientation bins\n",
    "        ori = test_row.get('orientation_rounded', test_row['orientation'])\n",
    "        target_bins = nearest_angles(ori, num_angles)\n",
    "\n",
    "        # 2) Subset offline to those bins\n",
    "        candidates = offline_summary[\n",
    "            offline_summary['orientation_rounded'].isin(target_bins)\n",
    "        ].copy()\n",
    "\n",
    "        # 3) Compute Euclidean distance in signal‐space\n",
    "        sig_cand = candidates[signal_cols].astype(float)\n",
    "        sig_test = test_row[signal_cols].astype(float)\n",
    "        diffs = sig_cand.subtract(sig_test, axis=1)\n",
    "        distances = np.linalg.norm(diffs.to_numpy(), axis=1)\n",
    "        candidates['signal_distance'] = distances\n",
    "\n",
    "        # 4) Pick the k records with smallest signal_distance\n",
    "        neighbors = candidates.nsmallest(k, 'signal_distance')\n",
    "        d_k = neighbors['signal_distance'].values\n",
    "        all_distances.append(d_k.tolist())\n",
    "\n",
    "        # 5) Compute inverse‐distance weights and weighted position\n",
    "        inv = 1.0 / (d_k + eps)\n",
    "        w = inv / inv.sum()\n",
    "        pred_x = np.sum(neighbors['posX'].values * w)\n",
    "        pred_y = np.sum(neighbors['posY'].values * w)\n",
    "\n",
    "        est_xy.append([pred_x, pred_y])\n",
    "\n",
    "    result = pd.DataFrame(est_xy, columns=['predX', 'predY'])\n",
    "    result['distances'] = all_distances\n",
    "    return result\n"
   ],
   "id": "86d58f6c2665c4bd",
   "outputs": [],
   "execution_count": 24
  },
  {
   "metadata": {
    "ExecuteTime": {
     "end_time": "2025-05-16T02:42:37.413297Z",
     "start_time": "2025-05-16T02:41:45.037651Z"
    }
   },
   "cell_type": "code",
   "source": [
    "est_xy_m5_k9_switched=pred_xy(online_reshaped_v2, offline_summary_v2,num_angles=5, k=9)\n",
    "#plot_estimates(offline_summary_v2, online_reshaped_v2, est_xy_m5_k9_switched)"
   ],
   "id": "5a2015b944cf475e",
   "outputs": [],
   "execution_count": 34
  },
  {
   "metadata": {
    "ExecuteTime": {
     "end_time": "2025-05-16T02:40:27.293953Z",
     "start_time": "2025-05-16T02:40:27.280937Z"
    }
   },
   "cell_type": "code",
   "outputs": [],
   "execution_count": 25,
   "source": [
    "class KNNIndoorLocatorWeighted(BaseEstimator, RegressorMixin):\n",
    "    def __init__(self, k=5, m=3, eps=1e-6):\n",
    "        self.k = k\n",
    "        self.m = m\n",
    "        self.eps = eps\n",
    "\n",
    "    def fit(self, X, y):\n",
    "        # X: DataFrame with orientation_rounded + MAC cols\n",
    "        # y: array (n_samples,2) with [posX,posY]\n",
    "        df = X.reset_index(drop=True).copy()\n",
    "        df['posX'], df['posY'] = y[:,0], y[:,1]\n",
    "        if 'orientation_rounded' not in df.columns and 'orientation' in df.columns:\n",
    "            df['orientation_rounded'] = (\n",
    "                df['orientation'].astype(float).apply(round_orientation)\n",
    "            )\n",
    "        self.offline_summary_ = df\n",
    "        return self\n",
    "\n",
    "    def predict(self, X):\n",
    "        # no extra kwargs here – we use self.weighted internally\n",
    "        preds = pred_xy_weighted(\n",
    "            online_reshaped = X.reset_index(drop=True),\n",
    "            offline_summary  = self.offline_summary_,\n",
    "            num_angles       = self.m,\n",
    "            k                = self.k,\n",
    "            eps              = self.eps\n",
    "        )\n",
    "        return preds[['predX','predY']].to_numpy()\n"
   ],
   "id": "be0cc42514e6869b"
  },
  {
   "metadata": {
    "ExecuteTime": {
     "end_time": "2025-05-16T02:40:27.372262Z",
     "start_time": "2025-05-16T02:40:27.358262Z"
    }
   },
   "cell_type": "code",
   "outputs": [],
   "execution_count": 26,
   "source": [
    "def grid_search_weighted(param_grid):\n",
    "\n",
    "    grid = GridSearchCV(\n",
    "        estimator = KNNIndoorLocator(),\n",
    "        param_grid = param_grid,\n",
    "        cv = cv,\n",
    "        scoring = 'neg_root_mean_squared_error',  # built-in RMSE scorer (negated)\n",
    "        n_jobs = -1,\n",
    "        verbose = 1,\n",
    "        error_score = 'raise'\n",
    "    )\n",
    "\n",
    "    # Run the grid search on the TRAINING split:\n",
    "    grid.fit(X_train, y_train)\n",
    "\n",
    "    print(\"Best hyperparameters:\", grid.best_params_)\n",
    "    print(\"Best CV RMSE:\", -grid.best_score_)\n",
    "\n",
    "    # Evaluate on the held-out 20%:\n",
    "    y_pred = grid.predict(X_test)\n"
   ],
   "id": "e96fe65e304797ae"
  },
  {
   "metadata": {
    "ExecuteTime": {
     "end_time": "2025-05-16T02:40:36.594503Z",
     "start_time": "2025-05-16T02:40:27.452806Z"
    }
   },
   "cell_type": "code",
   "outputs": [
    {
     "name": "stdout",
     "output_type": "stream",
     "text": [
      "Fitting 5 folds for each of 25 candidates, totalling 125 fits\n",
      "Best hyperparameters: {'k': 10, 'm': 4}\n",
      "Best CV RMSE: 1.8657688634665408\n"
     ]
    }
   ],
   "execution_count": 27,
   "source": "grid_search_weighted({'k': [1, 5, 10, 15, 20], 'm': [1, 2, 3, 4, 5]})",
   "id": "f39cf1a35b450aef"
  },
  {
   "metadata": {
    "ExecuteTime": {
     "end_time": "2025-05-16T02:40:44.610902Z",
     "start_time": "2025-05-16T02:40:36.672900Z"
    }
   },
   "cell_type": "code",
   "outputs": [
    {
     "name": "stdout",
     "output_type": "stream",
     "text": [
      "Fitting 5 folds for each of 21 candidates, totalling 105 fits\n",
      "Best hyperparameters: {'k': 10, 'm': 4}\n",
      "Best CV RMSE: 1.8657688634665408\n"
     ]
    }
   ],
   "execution_count": 28,
   "source": "grid_search_weighted({'k': [7,8,9,10,11,12,13], 'm': [3, 4, 5]})",
   "id": "469ba933c66641ea"
  },
  {
   "metadata": {
    "ExecuteTime": {
     "end_time": "2025-05-16T03:14:26.995937Z",
     "start_time": "2025-05-16T03:14:26.673326Z"
    }
   },
   "cell_type": "code",
   "source": [
    "est_xy_m4_k10_weighted=pred_xy_weighted(online_reshaped, offline_summary,num_angles=4, k=10)\n",
    "plot_estimates(offline_summary, online_reshaped, est_xy_m4_k10_weighted)"
   ],
   "id": "bc3d7aaa43affe6e",
   "outputs": [
    {
     "data": {
      "text/plain": [
       "<Figure size 800x600 with 1 Axes>"
      ],
      "image/png": "[encoded data removed]"
     },
     "metadata": {},
     "output_type": "display_data"
    }
   ],
   "execution_count": 54
  },
  {
   "metadata": {
    "ExecuteTime": {
     "end_time": "2025-05-16T03:14:31.829957Z",
     "start_time": "2025-05-16T03:14:31.822857Z"
    }
   },
   "cell_type": "code",
   "source": [
    "weighted_RMSE = compute_position_rmse(est_xy_m4_k10_weighted, online_reshaped)\n",
    "weighted_RMSE"
   ],
   "id": "f1e9f2f281483679",
   "outputs": [
    {
     "data": {
      "text/plain": [
       "2.1086668543340616"
      ]
     },
     "execution_count": 55,
     "metadata": {},
     "output_type": "execute_result"
    }
   ],
   "execution_count": 55
  },
  {
   "metadata": {},
   "cell_type": "markdown",
   "source": "## Switching out a MAC address",
   "id": "9a52a6d5706ac39b"
  },
  {
   "metadata": {
    "ExecuteTime": {
     "end_time": "2025-05-16T02:55:28.517811Z",
     "start_time": "2025-05-16T02:55:19.169725Z"
    }
   },
   "cell_type": "code",
   "source": "grid_search({'k': [1, 5, 10, 15, 20], 'm': [1, 2, 3, 4, 5]}, X_v2, y_v2)",
   "id": "adab66a227e36b4a",
   "outputs": [
    {
     "name": "stdout",
     "output_type": "stream",
     "text": [
      "Fitting 5 folds for each of 25 candidates, totalling 125 fits\n",
      "Best hyperparameters: {'k': 10, 'm': 4}\n",
      "Best CV RMSE: 1.8435748313525004\n"
     ]
    }
   ],
   "execution_count": 42
  },
  {
   "metadata": {
    "ExecuteTime": {
     "end_time": "2025-05-16T02:55:39.837574Z",
     "start_time": "2025-05-16T02:55:30.327197Z"
    }
   },
   "cell_type": "code",
   "source": "grid_search({'k': [7,8,9,10,11,12,13], 'm': [3, 4, 5]}, X_v2, y_v2)",
   "id": "ec74bb0c02104cd1",
   "outputs": [
    {
     "name": "stdout",
     "output_type": "stream",
     "text": [
      "Fitting 5 folds for each of 21 candidates, totalling 105 fits\n",
      "Best hyperparameters: {'k': 10, 'm': 4}\n",
      "Best CV RMSE: 1.8435748313525004\n"
     ]
    }
   ],
   "execution_count": 43
  },
  {
   "metadata": {
    "ExecuteTime": {
     "end_time": "2025-05-16T03:10:16.768559Z",
     "start_time": "2025-05-16T03:10:16.461196Z"
    }
   },
   "cell_type": "code",
   "source": [
    "est_xy_m5_k9_switched=pred_xy(online_reshaped_v2, offline_summary_v2,num_angles=4, k=10)\n",
    "plot_estimates(offline_summary_v2, online_reshaped_v2, est_xy_m5_k9_switched)"
   ],
   "id": "d391762f9f40ea47",
   "outputs": [
    {
     "data": {
      "text/plain": [
       "<Figure size 800x600 with 1 Axes>"
      ],
      "image/png": "[encoded data removed]"
     },
     "metadata": {},
     "output_type": "display_data"
    }
   ],
   "execution_count": 47
  },
  {
   "metadata": {
    "ExecuteTime": {
     "end_time": "2025-05-16T03:12:23.200775Z",
     "start_time": "2025-05-16T03:12:23.193777Z"
    }
   },
   "cell_type": "code",
   "source": [
    "switched_RMSE = compute_position_rmse(est_xy_m5_k9_switched, online_reshaped_v2)\n",
    "switched_RMSE"
   ],
   "id": "ea6a3c2e3afd232",
   "outputs": [
    {
     "data": {
      "text/plain": [
       "1.9488847100080664"
      ]
     },
     "execution_count": 52,
     "metadata": {},
     "output_type": "execute_result"
    }
   ],
   "execution_count": 52
  },
  {
   "metadata": {
    "ExecuteTime": {
     "end_time": "2025-05-16T03:14:38.206369Z",
     "start_time": "2025-05-16T03:14:38.192778Z"
    }
   },
   "cell_type": "code",
   "source": [
    "model_comparison = {\"model\": [\"basic\", \"weighted\", \"switched MAC\"], \n",
    "                    \"k\": [10, 10, 9],\n",
    "                    \"m\": [4, 4, 5],\n",
    "                    \"RMSE\": [basic_RMSE, weighted_RMSE, switched_RMSE]}\n",
    "comparison_df = pd.DataFrame(model_comparison)\n",
    "display(comparison_df)"
   ],
   "id": "3d21573f6b868a32",
   "outputs": [
    {
     "data": {
      "text/plain": [
       "          model   k  m      RMSE\n",
       "0         basic  10  4  2.118335\n",
       "1      weighted  10  4  2.108667\n",
       "2  switched MAC   9  5  1.948885"
      ],
      "text/html": [
       "<div>\n",
       "<style scoped>\n",
       "    .dataframe tbody tr th:only-of-type {\n",
       "        vertical-align: middle;\n",
       "    }\n",
       "\n",
       "    .dataframe tbody tr th {\n",
       "        vertical-align: top;\n",
       "    }\n",
       "\n",
       "    .dataframe thead th {\n",
       "        text-align: right;\n",
       "    }\n",
       "</style>\n",
       "<table border=\"1\" class=\"dataframe\">\n",
       "  <thead>\n",
       "    <tr style=\"text-align: right;\">\n",
       "      <th></th>\n",
       "      <th>model</th>\n",
       "      <th>k</th>\n",
       "      <th>m</th>\n",
       "      <th>RMSE</th>\n",
       "    </tr>\n",
       "  </thead>\n",
       "  <tbody>\n",
       "    <tr>\n",
       "      <th>0</th>\n",
       "      <td>basic</td>\n",
       "      <td>10</td>\n",
       "      <td>4</td>\n",
       "      <td>2.118335</td>\n",
       "    </tr>\n",
       "    <tr>\n",
       "      <th>1</th>\n",
       "      <td>weighted</td>\n",
       "      <td>10</td>\n",
       "      <td>4</td>\n",
       "      <td>2.108667</td>\n",
       "    </tr>\n",
       "    <tr>\n",
       "      <th>2</th>\n",
       "      <td>switched MAC</td>\n",
       "      <td>9</td>\n",
       "      <td>5</td>\n",
       "      <td>1.948885</td>\n",
       "    </tr>\n",
       "  </tbody>\n",
       "</table>\n",
       "</div>"
      ]
     },
     "metadata": {},
     "output_type": "display_data"
    }
   ],
   "execution_count": 56
  },
  {
   "metadata": {},
   "cell_type": "code",
   "outputs": [],
   "execution_count": null,
   "source": "",
   "id": "9cc43ede3f1ddab1"
  }
 ],
 "metadata": {
  "kernelspec": {
   "display_name": "Python 3 (ipykernel)",
   "language": "python",
   "name": "python3"
  },
  "language_info": {
   "codemirror_mode": {
    "name": "ipython",
    "version": 3
   },
   "file_extension": ".py",
   "mimetype": "text/x-python",
   "name": "python",
   "nbconvert_exporter": "python",
   "pygments_lexer": "ipython3",
   "version": "3.13.2"
  }
 },
 "nbformat": 4,
 "nbformat_minor": 5
}
