{
 "cells": [
  {
   "cell_type": "markdown",
   "metadata": {},
   "source": [
    "# <center>Project: Indoor Localization.</center>\n",
    "\n",
    "\n",
    "Data : uploaded in Moodle\n",
    "- train set (offline) and \n",
    "- separated (online) test set\n",
    "\n",
    "Citation for the data: Thomas King, Stephan Kopf, Thomas Haenselmann, Christian Lubberger, Wolfgang Effelsberg, mannheim/compass, https://doi.org/10.15783/C7F30Q , Date: 20060913\n",
    "\n",
    "## Introduction \n",
    "Recall the ML Project workflow.\n",
    "\n",
    "Problem understanding\n",
    "Data collection, Data Cleaning and Exploration\n",
    "Feature Selection, Feature Engineering\n",
    "Training and Model Selection\n",
    "Evaluation and Deployment\n",
    "\n",
    "## Problem Description\n",
    "- Indoor localization is different than outdoor, because \n",
    "    - no line of sight, lots of distorting factors\n",
    "    - needs more precision\n",
    "- Examples of Applications:  \n",
    "    - Logistics, Customer Support (saving time shopping), Hospitals (Patients, Device Location tracking)\n",
    "- Variety of positioning technologies\n",
    "    - WiFi based approaches: Received Signal Strength (RSS), angle, time of arrival, time difference of arrival\n",
    "    - Bluetooth \n",
    "    - Radio Frequency\n",
    "    - ...\n",
    "- Challenges: \n",
    "    - poor accuracy\n",
    "    - high computational complexity \n",
    "    - costs of hardware\n",
    "\n",
    "Task: Search for a Survey paper and list some approaches present in the literature \n",
    "\n",
    "Task: Formulate the Problem Description, Challanges and Ml formulation\n",
    "\n",
    "## Our project: Localization based on Received Signal Strength(RSS), using k-NN\n",
    "\n",
    "In this project, we will work on \n",
    "  - understanding and cleaning the data,\n",
    "  - organizing it in a structure suitable for analysis, and \n",
    "  - examining its statistical properties \n",
    "  - We will use a k-NN model to predict the location of new data points\n",
    "  - Hyper parameter tuning, model selection"
   ]
  },
  {
   "metadata": {
    "ExecuteTime": {
     "end_time": "2025-05-14T07:56:50.036822Z",
     "start_time": "2025-05-14T07:56:50.007021Z"
    }
   },
   "cell_type": "code",
   "source": [
    "# Write your imports here\n",
    "import pandas as pd\n",
    "import numpy as np\n",
    "import re\n",
    "import matplotlib.pyplot as plt \n",
    "import seaborn as sns \n",
    "\n",
    "import statsmodels.api as sm\n",
    "from statsmodels.distributions.empirical_distribution import ECDF\n",
    "import warnings\n",
    "warnings.filterwarnings('ignore')\n"
   ],
   "outputs": [],
   "execution_count": 24
  },
  {
   "metadata": {},
   "cell_type": "markdown",
   "source": [
    "### Ideas on how to structure the data. \n",
    "Task: Consider the two following obvious choices of how to store the data in a structured way and give at least a pro and a con for each:\n",
    "1. transfer each row in input file to a row in data frame\n",
    "\n",
    "**Pro:** the original data keeps intact - all AP responses stay bundled together\n",
    "\n",
    "**Con:** the responses column has to hald a list of many signals, which makes working with it further on more complicated\n",
    "\n",
    "2. store one signal per row. That implies that each line in the input file turns into multiple rows in the data frame.\n",
    "\n",
    "**Pro:** tidy formal - every cell is atomic, which makes it easier to work with further on\n",
    "\n",
    "**Con:** table gets very big - each scan line becomes N rows which might negatively influence runtime\n",
    "\n",
    "\n",
    "\n",
    "Adopt the second approach. \n",
    "\n",
    "- Write a function that can process a line of the file into a matrix, and then apply it to each line.\n",
    "- Create a DataFrame by concatenating the list of processed lines, stacking them. Define columns=[\"time\", \"scanMac\", \"posX\", \"posY\", \"posZ\", \"orientation\", \"mac\", \"signal\", \"channel\", \"type\"]\n",
    "\n",
    "I recommend you to get familiar with regular expressions: https://de.wikipedia.org/wiki/Regul%C3%A4rer_Ausdruck\n",
    "\n",
    "Example: for the first line, you should have the matrix"
   ]
  },
  {
   "metadata": {
    "ExecuteTime": {
     "end_time": "2025-05-12T20:04:00.993301Z",
     "start_time": "2025-05-12T20:04:00.988998Z"
    }
   },
   "cell_type": "code",
   "source": [
    "\n",
    "# [['1139643118744', '00:02:2D:21:0F:33', '0.0', '0.0', '0.0', '0.0',\n",
    "#         '00:14:bf:b1:97:8a', '-38', '2437000000', '3'],\n",
    "#        ['1139643118744', '00:02:2D:21:0F:33', '0.0', '0.0', '0.0', '0.0',\n",
    "#         '00:0f:a3:39:e1:c0', '-54', '2462000000', '3'],\n",
    "#        ['1139643118744', '00:02:2D:21:0F:33', '0.0', '0.0', '0.0', '0.0',\n",
    "#         '00:14:bf:b1:97:90', '-56', '2427000000', '3'],\n",
    "#        ['1139643118744', '00:02:2D:21:0F:33', '0.0', '0.0', '0.0', '0.0',\n",
    "#         '00:14:bf:3b:c7:c6', '-67', '2432000000', '3'],\n",
    "#        ['1139643118744', '00:02:2D:21:0F:33', '0.0', '0.0', '0.0', '0.0',\n",
    "#         '00:14:bf:b1:97:81', '-66', '2422000000', '3'],\n",
    "#        ['1139643118744', '00:02:2D:21:0F:33', '0.0', '0.0', '0.0', '0.0',\n",
    "#         '00:14:bf:b1:97:8d', '-70', '2442000000', '3'],\n",
    "#        ['1139643118744', '00:02:2D:21:0F:33', '0.0', '0.0', '0.0', '0.0',\n",
    "#         '00:0f:a3:39:e0:4b', '-79', '2462000000', '3'],\n",
    "#        ['1139643118744', '00:02:2D:21:0F:33', '0.0', '0.0', '0.0', '0.0',\n",
    "#         '00:0f:a3:39:dd:cd', '-73', '2412000000', '3'],\n",
    "#        ['1139643118744', '00:02:2D:21:0F:33', '0.0', '0.0', '0.0', '0.0',\n",
    "#         '00:0f:a3:39:e2:10', '-83', '2437000000', '3'],\n",
    "#        ['1139643118744', '00:02:2D:21:0F:33', '0.0', '0.0', '0.0', '0.0',\n",
    "#         '02:00:42:55:31:00', '-85', '2457000000', '1']]"
   ],
   "outputs": [],
   "execution_count": 2
  },
  {
   "metadata": {
    "ExecuteTime": {
     "end_time": "2025-05-14T07:56:52.595235Z",
     "start_time": "2025-05-14T07:56:52.584346Z"
    }
   },
   "cell_type": "code",
   "source": [
    "def read_data(path):\n",
    "    # 1) Compile two regexes: one for the line header, one for each MAC=signal,channel,type\n",
    "    line_re = re.compile(\n",
    "        r't=(?P<time>\\d+);'\n",
    "        r'id=(?P<scanMac>[^;]+);'\n",
    "        r'pos=(?P<posX>[^;]+);'\n",
    "        r'degree=(?P<orientation>[^;]+);'\n",
    "        r'(?P<responses>.+)'\n",
    "    )\n",
    "    resp_re = re.compile(\n",
    "        r'(?P<mac>[^=;]+)='\n",
    "        r'(?P<signal>-?\\d+),'\n",
    "        r'(?P<channel>\\d+),'\n",
    "        r'(?P<type>\\d+)'\n",
    "    )\n",
    "    def process_line(line):\n",
    "        \"\"\"\n",
    "        Parse one line of the offline trace into a list of\n",
    "        [time, scanMac, posX, posY, posZ, orientation, mac, signal, channel, type].\n",
    "        \"\"\"\n",
    "    \n",
    "        m = line_re.match(line.strip())\n",
    "        if not m:\n",
    "            return []\n",
    "    \n",
    "        # extract header fields\n",
    "        time        = m.group('time')\n",
    "        scanMac     = m.group('scanMac')\n",
    "        posX, posY, posZ = m.group('posX').split(',')\n",
    "        orientation = m.group('orientation')\n",
    "    \n",
    "        # split off each \"MAC=signal,channel,type\" piece\n",
    "        rows = []\n",
    "        for resp in m.group('responses').split(';'):\n",
    "            rm = resp_re.match(resp)\n",
    "            if rm:\n",
    "                rows.append([\n",
    "                    time,\n",
    "                    scanMac,\n",
    "                    posX,\n",
    "                    posY,\n",
    "                    posZ,\n",
    "                    orientation,\n",
    "                    rm.group('mac'),\n",
    "                    rm.group('signal'),\n",
    "                    rm.group('channel'),\n",
    "                    rm.group('type'),\n",
    "                ])\n",
    "        return rows\n",
    "    \n",
    "    # 2) Apply to every non-commented line in the file\n",
    "    all_rows = []\n",
    "    with open(path, 'r') as f:\n",
    "        for line in f:\n",
    "            if not line.strip() or line.startswith('#'):\n",
    "                continue\n",
    "            all_rows.extend(process_line(line))\n",
    "    \n",
    "    # 3) Build the DataFrame\n",
    "    columns = [\n",
    "        \"time\", \"scanMac\",\n",
    "        \"posX\", \"posY\", \"posZ\",\n",
    "        \"orientation\",\n",
    "        \"mac\", \"signal\",\n",
    "        \"channel\", \"type\"\n",
    "    ]\n",
    "    df = pd.DataFrame(all_rows, columns=columns)\n",
    "    \n",
    "    # Now `df` has one signal per row, ready for cleaning, EDA, modeling…\n",
    "    print(f\"Parsed {len(df)} measurements.\")\n",
    "    return df"
   ],
   "outputs": [],
   "execution_count": 25
  },
  {
   "metadata": {
    "ExecuteTime": {
     "end_time": "2025-05-14T07:56:59.721474Z",
     "start_time": "2025-05-14T07:56:55.151798Z"
    }
   },
   "cell_type": "code",
   "source": "df = read_data('./data/offline.final.trace.txt')",
   "outputs": [
    {
     "name": "stdout",
     "output_type": "stream",
     "text": [
      "Parsed 1181628 measurements.\n"
     ]
    }
   ],
   "execution_count": 26
  },
  {
   "metadata": {},
   "cell_type": "markdown",
   "source": [
    "## Understanding the data\n",
    "Data: Thomas King, Stephan Kopf, Thomas Haenselmann, Christian Lubberger, Wolfgang Effelsberg, mannheim/compass, https://doi.org/10.15783/C7F30Q , Date: 20060913\n",
    "\n",
    "Data Documentation, Visual inspection, Checks\n",
    "Read the documentation of the data and perform a visual inspection (plain text editor). Describe the data and check that the file is as expected. Consider, for example:\n",
    "\n",
    "- which types of lines are present and how many of them we have. Does the file fit the documentation?\n",
    "- which columns we have, what they represent, which data type do they have, ...\n",
    "- Note: Always keep the documentation of the data in mind, return to it if needed!"
   ]
  },
  {
   "metadata": {
    "ExecuteTime": {
     "end_time": "2025-05-12T20:04:03.632632Z",
     "start_time": "2025-05-12T20:04:03.358481Z"
    }
   },
   "cell_type": "code",
   "source": [
    "display(df.head())\n",
    "display(df.info())"
   ],
   "outputs": [
    {
     "data": {
      "text/plain": [
       "            time            scanMac posX posY posZ orientation  \\\n",
       "0  1139643118358  00:02:2D:21:0F:33  0.0  0.0  0.0         0.0   \n",
       "1  1139643118358  00:02:2D:21:0F:33  0.0  0.0  0.0         0.0   \n",
       "2  1139643118358  00:02:2D:21:0F:33  0.0  0.0  0.0         0.0   \n",
       "3  1139643118358  00:02:2D:21:0F:33  0.0  0.0  0.0         0.0   \n",
       "4  1139643118358  00:02:2D:21:0F:33  0.0  0.0  0.0         0.0   \n",
       "\n",
       "                 mac signal     channel type  \n",
       "0  00:14:bf:b1:97:8a    -38  2437000000    3  \n",
       "1  00:14:bf:b1:97:90    -56  2427000000    3  \n",
       "2  00:0f:a3:39:e1:c0    -53  2462000000    3  \n",
       "3  00:14:bf:b1:97:8d    -65  2442000000    3  \n",
       "4  00:14:bf:b1:97:81    -65  2422000000    3  "
      ],
      "text/html": [
       "<div>\n",
       "<style scoped>\n",
       "    .dataframe tbody tr th:only-of-type {\n",
       "        vertical-align: middle;\n",
       "    }\n",
       "\n",
       "    .dataframe tbody tr th {\n",
       "        vertical-align: top;\n",
       "    }\n",
       "\n",
       "    .dataframe thead th {\n",
       "        text-align: right;\n",
       "    }\n",
       "</style>\n",
       "<table border=\"1\" class=\"dataframe\">\n",
       "  <thead>\n",
       "    <tr style=\"text-align: right;\">\n",
       "      <th></th>\n",
       "      <th>time</th>\n",
       "      <th>scanMac</th>\n",
       "      <th>posX</th>\n",
       "      <th>posY</th>\n",
       "      <th>posZ</th>\n",
       "      <th>orientation</th>\n",
       "      <th>mac</th>\n",
       "      <th>signal</th>\n",
       "      <th>channel</th>\n",
       "      <th>type</th>\n",
       "    </tr>\n",
       "  </thead>\n",
       "  <tbody>\n",
       "    <tr>\n",
       "      <th>0</th>\n",
       "      <td>1139643118358</td>\n",
       "      <td>00:02:2D:21:0F:33</td>\n",
       "      <td>0.0</td>\n",
       "      <td>0.0</td>\n",
       "      <td>0.0</td>\n",
       "      <td>0.0</td>\n",
       "      <td>00:14:bf:b1:97:8a</td>\n",
       "      <td>-38</td>\n",
       "      <td>2437000000</td>\n",
       "      <td>3</td>\n",
       "    </tr>\n",
       "    <tr>\n",
       "      <th>1</th>\n",
       "      <td>1139643118358</td>\n",
       "      <td>00:02:2D:21:0F:33</td>\n",
       "      <td>0.0</td>\n",
       "      <td>0.0</td>\n",
       "      <td>0.0</td>\n",
       "      <td>0.0</td>\n",
       "      <td>00:14:bf:b1:97:90</td>\n",
       "      <td>-56</td>\n",
       "      <td>2427000000</td>\n",
       "      <td>3</td>\n",
       "    </tr>\n",
       "    <tr>\n",
       "      <th>2</th>\n",
       "      <td>1139643118358</td>\n",
       "      <td>00:02:2D:21:0F:33</td>\n",
       "      <td>0.0</td>\n",
       "      <td>0.0</td>\n",
       "      <td>0.0</td>\n",
       "      <td>0.0</td>\n",
       "      <td>00:0f:a3:39:e1:c0</td>\n",
       "      <td>-53</td>\n",
       "      <td>2462000000</td>\n",
       "      <td>3</td>\n",
       "    </tr>\n",
       "    <tr>\n",
       "      <th>3</th>\n",
       "      <td>1139643118358</td>\n",
       "      <td>00:02:2D:21:0F:33</td>\n",
       "      <td>0.0</td>\n",
       "      <td>0.0</td>\n",
       "      <td>0.0</td>\n",
       "      <td>0.0</td>\n",
       "      <td>00:14:bf:b1:97:8d</td>\n",
       "      <td>-65</td>\n",
       "      <td>2442000000</td>\n",
       "      <td>3</td>\n",
       "    </tr>\n",
       "    <tr>\n",
       "      <th>4</th>\n",
       "      <td>1139643118358</td>\n",
       "      <td>00:02:2D:21:0F:33</td>\n",
       "      <td>0.0</td>\n",
       "      <td>0.0</td>\n",
       "      <td>0.0</td>\n",
       "      <td>0.0</td>\n",
       "      <td>00:14:bf:b1:97:81</td>\n",
       "      <td>-65</td>\n",
       "      <td>2422000000</td>\n",
       "      <td>3</td>\n",
       "    </tr>\n",
       "  </tbody>\n",
       "</table>\n",
       "</div>"
      ]
     },
     "metadata": {},
     "output_type": "display_data"
    },
    {
     "name": "stdout",
     "output_type": "stream",
     "text": [
      "<class 'pandas.core.frame.DataFrame'>\n",
      "RangeIndex: 1181628 entries, 0 to 1181627\n",
      "Data columns (total 10 columns):\n",
      " #   Column       Non-Null Count    Dtype \n",
      "---  ------       --------------    ----- \n",
      " 0   time         1181628 non-null  object\n",
      " 1   scanMac      1181628 non-null  object\n",
      " 2   posX         1181628 non-null  object\n",
      " 3   posY         1181628 non-null  object\n",
      " 4   posZ         1181628 non-null  object\n",
      " 5   orientation  1181628 non-null  object\n",
      " 6   mac          1181628 non-null  object\n",
      " 7   signal       1181628 non-null  object\n",
      " 8   channel      1181628 non-null  object\n",
      " 9   type         1181628 non-null  object\n",
      "dtypes: object(10)\n",
      "memory usage: 90.2+ MB\n"
     ]
    },
    {
     "data": {
      "text/plain": [
       "None"
      ]
     },
     "metadata": {},
     "output_type": "display_data"
    }
   ],
   "execution_count": 4
  },
  {
   "metadata": {},
   "cell_type": "markdown",
   "source": [
    "Example: \n",
    "- We see that there are comments, starting with #. Recall that we expect 146,080 lines in the file (166 locations × 8 angles × 110 recordings). Check this.\n",
    "- What do you notice about the time format? \n",
    "- is id always the same?\n",
    "- is degree as described in the documentation?\n",
    "- Does every line have the same macs\n",
    "- how are Signal Strength values?\n",
    "...\n",
    "\n",
    "> Continue by documenting what you notice about the data"
   ]
  },
  {
   "metadata": {
    "ExecuteTime": {
     "end_time": "2025-05-12T20:04:03.757785Z",
     "start_time": "2025-05-12T20:04:03.699076Z"
    }
   },
   "cell_type": "code",
   "source": "df[\"scanMac\"].unique()",
   "outputs": [
    {
     "data": {
      "text/plain": [
       "array(['00:02:2D:21:0F:33'], dtype=object)"
      ]
     },
     "execution_count": 5,
     "metadata": {},
     "output_type": "execute_result"
    }
   ],
   "execution_count": 5
  },
  {
   "metadata": {},
   "cell_type": "markdown",
   "source": "all measurements have been performed with the same device"
  },
  {
   "metadata": {
    "ExecuteTime": {
     "end_time": "2025-05-12T20:04:03.850192Z",
     "start_time": "2025-05-12T20:04:03.773248Z"
    }
   },
   "cell_type": "code",
   "source": "df[\"time\"].nunique()",
   "outputs": [
    {
     "data": {
      "text/plain": [
       "146074"
      ]
     },
     "execution_count": 6,
     "metadata": {},
     "output_type": "execute_result"
    }
   ],
   "execution_count": 6
  },
  {
   "metadata": {},
   "cell_type": "markdown",
   "source": "the amount of different timestamps mostly aligns with the expected amount (146 080) except for 6 missing values"
  },
  {
   "metadata": {
    "ExecuteTime": {
     "end_time": "2025-05-12T20:04:03.898906Z",
     "start_time": "2025-05-12T20:04:03.858202Z"
    }
   },
   "cell_type": "code",
   "source": [
    "df[\"orientation\"].unique()\n",
    "# TODO: transform column orientation to only contain one of the 8 documented orientations"
   ],
   "outputs": [
    {
     "data": {
      "text/plain": [
       "array(['0.0', '45.2', '90.3', '135.9', '180.3', '225.6', '270.1', '315.0',\n",
       "       '45.1', '90.7', '135.2', '180.1', '225.7', '269.7', '315.3', '0.3',\n",
       "       '45.5', '90.5', '135.7', '180.2', '225.0', '270.9', '315.2', '0.7',\n",
       "       '45.7', '89.8', '225.2', '269.9', '0.4', '90.4', '134.8', '180.4',\n",
       "       '0.2', '45.6', '135.0', '179.6', '225.4', '269.5', '179.2',\n",
       "       '224.5', '89.9', '134.4', '269.4', '359.9', '90.1', '135.1',\n",
       "       '270.2', '314.8', '313.8', '45.8', '90.8', '134.9', '225.9',\n",
       "       '270.5', '315.9', '45.4', '134.7', '180.0', '224.9', '269.8',\n",
       "       '314.4', '0.1', '44.3', '225.3', '315.7', '0.5', '44.8', '89.4',\n",
       "       '226.0', '315.1', '0.8', '89.2', '180.8', '224.8', '315.8', '44.4',\n",
       "       '180.5', '314.9', '44.9', '179.8', '315.5', '135.6', '0.6',\n",
       "       '135.4', '179.9', '225.1', '270.0', '45.3', '270.4', '45.0',\n",
       "       '90.6', '46.0', '0.9', '44.6', '135.3', '90.2', '134.2', '44.5',\n",
       "       '134.5', '226.1', '269.6', '270.3', '315.4', '1.5', '135.8',\n",
       "       '179.4', '314.7', '90.0', '225.5', '314.5', '180.9', '135.5',\n",
       "       '47.6', '226.5', '89.7', '136.7', '270.8', '225.8', '270.7',\n",
       "       '181.5', '270.6', '359.7', '180.6', '45.9', '46.3', '359.6',\n",
       "       '268.3', '224.6', '1.0', '180.7', '315.6', '224.7', '223.4',\n",
       "       '91.0', '224.4', '271.5', '179.3', '269.0', '359.8', '89.6',\n",
       "       '226.9', '314.6', '134.3', '2.0', '89.0', '316.5', '179.7',\n",
       "       '224.0', '271.0', '1.2', '136.0', '314.0', '268.4', '91.5',\n",
       "       '134.6', '226.3', '226.2', '324.5', '179.5', '271.6', '358.3',\n",
       "       '91.2', '46.5', '271.3', '359.5', '269.3', '316.3', '44.7',\n",
       "       '271.2', '90.9', '136.6', '136.5', '136.3', '46.8', '316.0',\n",
       "       '269.2', '181.1', '44.2', '91.1', '314.2', '89.1', '314.3', '46.6',\n",
       "       '358.8', '358.6', '358.7', '88.8', '182.7', '182.8', '224.1',\n",
       "       '316.8', '7.9', '181.0', '359.3', '89.5', '316.1', '316.6',\n",
       "       '359.1', '134.0', '226.4', '2.1', '227.0', '228.1'], dtype=object)"
      ]
     },
     "execution_count": 7,
     "metadata": {},
     "output_type": "execute_result"
    }
   ],
   "execution_count": 7
  },
  {
   "metadata": {},
   "cell_type": "markdown",
   "source": "the column orientation contains way more orientations than described in the documentations - so, the values will be transformed by assigning each value to the one (of the 8 mentioned orientations) it is closest to"
  },
  {
   "metadata": {
    "ExecuteTime": {
     "end_time": "2025-05-12T20:04:03.966056Z",
     "start_time": "2025-05-12T20:04:03.912705Z"
    }
   },
   "cell_type": "code",
   "source": "df[\"mac\"].value_counts()",
   "outputs": [
    {
     "data": {
      "text/plain": [
       "mac\n",
       "00:0f:a3:39:e1:c0    145862\n",
       "00:0f:a3:39:dd:cd    145619\n",
       "00:14:bf:b1:97:8a    132962\n",
       "00:14:bf:3b:c7:c6    126529\n",
       "00:14:bf:b1:97:90    122315\n",
       "00:14:bf:b1:97:8d    121325\n",
       "00:14:bf:b1:97:81    120339\n",
       "02:00:42:55:31:00    103887\n",
       "02:64:fb:68:52:e6     50852\n",
       "00:0f:a3:39:e0:4b     43508\n",
       "02:2e:58:22:f1:ac     25112\n",
       "00:0f:a3:39:e2:10     19162\n",
       "02:37:fd:3b:54:b5      8732\n",
       "02:b7:00:bb:a9:35      7602\n",
       "02:5c:e0:50:49:de      6997\n",
       "00:04:0e:5c:23:fc       418\n",
       "00:30:bd:f8:7f:c5       301\n",
       "00:e0:63:82:8b:a9       103\n",
       "02:42:1c:4e:b5:c0         1\n",
       "02:0a:3d:06:94:88         1\n",
       "02:4f:99:43:30:cd         1\n",
       "Name: count, dtype: int64"
      ]
     },
     "execution_count": 8,
     "metadata": {},
     "output_type": "execute_result"
    }
   ],
   "execution_count": 8
  },
  {
   "metadata": {},
   "cell_type": "markdown",
   "source": "there are more mac addresses than access points - so, we need to identify which measurements came from the documented access points"
  },
  {
   "metadata": {
    "ExecuteTime": {
     "end_time": "2025-05-12T20:04:04.020472Z",
     "start_time": "2025-05-12T20:04:03.991806Z"
    }
   },
   "cell_type": "code",
   "source": [
    "df[\"type\"].value_counts()\n",
    "# TODO: delete rows with type=1"
   ],
   "outputs": [
    {
     "data": {
      "text/plain": [
       "type\n",
       "3    978443\n",
       "1    203185\n",
       "Name: count, dtype: int64"
      ]
     },
     "execution_count": 9,
     "metadata": {},
     "output_type": "execute_result"
    }
   ],
   "execution_count": 9
  },
  {
   "metadata": {},
   "cell_type": "markdown",
   "source": "there are many rows that contain signals measured from adhoc devices (not access points) which have to be deleted"
  },
  {
   "metadata": {
    "ExecuteTime": {
     "end_time": "2025-05-12T20:04:06.344642Z",
     "start_time": "2025-05-12T20:04:04.063587Z"
    }
   },
   "cell_type": "code",
   "source": [
    "df_copy = df.copy()\n",
    "numeric_cols = ['time', 'posX', 'posY', 'posZ', 'orientation', 'signal', 'channel', 'type']\n",
    "for col in numeric_cols:\n",
    "    df_copy[col] = pd.to_numeric(df_copy[col], errors='coerce')"
   ],
   "outputs": [],
   "execution_count": 10
  },
  {
   "metadata": {
    "ExecuteTime": {
     "end_time": "2025-05-12T20:04:06.423017Z",
     "start_time": "2025-05-12T20:04:06.397404Z"
    }
   },
   "cell_type": "code",
   "source": "display(df_copy[\"signal\"].describe())",
   "outputs": [
    {
     "data": {
      "text/plain": [
       "count    1.181628e+06\n",
       "mean    -6.385398e+01\n",
       "std      1.262409e+01\n",
       "min     -9.900000e+01\n",
       "25%     -7.300000e+01\n",
       "50%     -6.200000e+01\n",
       "75%     -5.500000e+01\n",
       "max     -2.500000e+01\n",
       "Name: signal, dtype: float64"
      ]
     },
     "metadata": {},
     "output_type": "display_data"
    }
   ],
   "execution_count": 11
  },
  {
   "cell_type": "markdown",
   "metadata": {},
   "source": [
    "###   Cleaning and formatting the data:\n",
    "\n",
    "- Convert numeric variables from string to numeric\n",
    "- look at the orientation and notice that the values are not always exact multiples of 45 degrees.  Write a function that rounds the orientation to multiples of 45 degrees and add column with rounded angles. Keep the old values and check that the conversion was done properly. Note that 358 should be converted to 0. \n",
    "- Plot the ECDF of the orientation column before and after the conversion(from statsmodels.api, use distributions.ECDF)\n",
    "- keep only Access Points(abrev. AP), i.e. remove ad-hoc devices and then remove the type column\n",
    "- format the time column\n",
    "\n",
    "As mentioned, keep the unchanged columns for now as well\n",
    "\n",
    "After this steps, the first lines of your data frame should look like:\n",
    "\n",
    "![](step1.png)\n"
   ]
  },
  {
   "cell_type": "markdown",
   "metadata": {},
   "source": [
    "### Univariate Analysis\n",
    "\n",
    "- Are there other columns that you can eliminate?\n",
    "- Can you identify the 6 APs that are mentioned in the documentation?\n",
    "- Was the same device used for taking the measurements?\n",
    "- ...\n",
    "\n",
    "For answering this questions, review unique values, counts, look at measures of central tendency and spread for the numerical variables, ...\n",
    "\n",
    "You should be able to argue a reduction to 7 AP, deleting the channel, and scanMac"
   ]
  },
  {
   "metadata": {
    "ExecuteTime": {
     "end_time": "2025-05-12T20:04:06.504219Z",
     "start_time": "2025-05-12T20:04:06.459198Z"
    }
   },
   "cell_type": "code",
   "source": "df_copy[\"mac\"].value_counts()",
   "outputs": [
    {
     "data": {
      "text/plain": [
       "mac\n",
       "00:0f:a3:39:e1:c0    145862\n",
       "00:0f:a3:39:dd:cd    145619\n",
       "00:14:bf:b1:97:8a    132962\n",
       "00:14:bf:3b:c7:c6    126529\n",
       "00:14:bf:b1:97:90    122315\n",
       "00:14:bf:b1:97:8d    121325\n",
       "00:14:bf:b1:97:81    120339\n",
       "02:00:42:55:31:00    103887\n",
       "02:64:fb:68:52:e6     50852\n",
       "00:0f:a3:39:e0:4b     43508\n",
       "02:2e:58:22:f1:ac     25112\n",
       "00:0f:a3:39:e2:10     19162\n",
       "02:37:fd:3b:54:b5      8732\n",
       "02:b7:00:bb:a9:35      7602\n",
       "02:5c:e0:50:49:de      6997\n",
       "00:04:0e:5c:23:fc       418\n",
       "00:30:bd:f8:7f:c5       301\n",
       "00:e0:63:82:8b:a9       103\n",
       "02:42:1c:4e:b5:c0         1\n",
       "02:0a:3d:06:94:88         1\n",
       "02:4f:99:43:30:cd         1\n",
       "Name: count, dtype: int64"
      ]
     },
     "execution_count": 12,
     "metadata": {},
     "output_type": "execute_result"
    }
   ],
   "execution_count": 12
  },
  {
   "metadata": {
    "ExecuteTime": {
     "end_time": "2025-05-12T20:04:06.730616Z",
     "start_time": "2025-05-12T20:04:06.530739Z"
    }
   },
   "cell_type": "code",
   "source": [
    "# 1. Compute the number of measurements for each access point\n",
    "ap_counts = df_copy[df_copy['type'] == 3]['mac'].value_counts()\n",
    "\n",
    "# 2. Sort counts in descending order and reset the index for plotting\n",
    "counts_sorted = ap_counts.sort_values(ascending=False).reset_index(drop=True)\n",
    "\n",
    "# 3. Plot the sorted counts to visualize the elbow\n",
    "plt.plot(counts_sorted, marker='o')\n",
    "plt.xlabel('Rank (descending by count)')\n",
    "plt.ylabel('Measurement count')\n",
    "plt.title('Elbow Method for Selecting Access Points')\n",
    "plt.show()\n",
    "\n",
    "# 4. Identify the elbow point as the position with the largest absolute change\n",
    "deltas = counts_sorted.diff().abs()\n",
    "elbow_index = deltas[1:].idxmax()  # skip the first NaN\n",
    "num_selected = elbow_index + 1     # convert zero-based index to count\n",
    "\n",
    "print(f\"Elbow at rank {elbow_index}: selecting the first {elbow_index} MAC addresses\")\n",
    "\n",
    "# 5. Extract the top MAC addresses based on the elbow point\n",
    "selected_macs = ap_counts.nlargest(elbow_index).index.tolist()\n",
    "\n",
    "print(\"\\nSelected MAC addresses:\")\n",
    "for rank, mac in enumerate(selected_macs, start=1):\n",
    "    print(f\"{rank}. {mac} ({ap_counts[mac]} measurements)\")\n"
   ],
   "outputs": [
    {
     "data": {
      "text/plain": [
       "<Figure size 640x480 with 1 Axes>"
      ],
      "image/png": "[encoded data removed]"
     },
     "metadata": {},
     "output_type": "display_data"
    },
    {
     "name": "stdout",
     "output_type": "stream",
     "text": [
      "Elbow at rank 7: selecting the first 7 MAC addresses\n",
      "\n",
      "Selected MAC addresses:\n",
      "1. 00:0f:a3:39:e1:c0 (145862 measurements)\n",
      "2. 00:0f:a3:39:dd:cd (145619 measurements)\n",
      "3. 00:14:bf:b1:97:8a (132962 measurements)\n",
      "4. 00:14:bf:3b:c7:c6 (126529 measurements)\n",
      "5. 00:14:bf:b1:97:90 (122315 measurements)\n",
      "6. 00:14:bf:b1:97:8d (121325 measurements)\n",
      "7. 00:14:bf:b1:97:81 (120339 measurements)\n"
     ]
    }
   ],
   "execution_count": 13
  },
  {
   "metadata": {},
   "cell_type": "markdown",
   "source": "The elbow point occurs at the 7th MAC address, it indicates that the first 7 MACs contain the majority of reliable data"
  },
  {
   "metadata": {
    "ExecuteTime": {
     "end_time": "2025-05-12T20:04:06.794730Z",
     "start_time": "2025-05-12T20:04:06.750635Z"
    }
   },
   "cell_type": "code",
   "source": "df[\"posZ\"].value_counts()",
   "outputs": [
    {
     "data": {
      "text/plain": [
       "posZ\n",
       "0.0    1181628\n",
       "Name: count, dtype: int64"
      ]
     },
     "execution_count": 14,
     "metadata": {},
     "output_type": "execute_result"
    }
   ],
   "execution_count": 14
  },
  {
   "metadata": {},
   "cell_type": "markdown",
   "source": [
    "## Organize your code\n",
    "\n",
    "\n",
    "Write a function that summarizes the processing of the data. Write it in such a way that you can apply it to the online data set as well. Check that the  you obtain the same result as until now, ensuring that none of the steps were forgotten.\n",
    "\n",
    "You can use the pickle format to save a DataFrame, which preserves the data types of the columns. What you should obtain is available in moodle, as pickle file"
   ]
  },
  {
   "metadata": {
    "ExecuteTime": {
     "end_time": "2025-05-14T18:06:42.946743Z",
     "start_time": "2025-05-14T18:06:42.885530Z"
    }
   },
   "cell_type": "code",
   "source": [
    "def cleaning(dataframe):\n",
    "    # 1) Convert numeric variables from strings to appropriate numeric types\n",
    "    numeric_cols = ['time', 'orientation', 'signal', 'channel', 'type']\n",
    "    for col in numeric_cols:\n",
    "        dataframe[col] = pd.to_numeric(dataframe[col], errors='coerce')\n",
    "\n",
    "    # 2) Remove duplicate rows\n",
    "    dataframe = dataframe.drop_duplicates()\n",
    "    \n",
    "    # 3) Keep only infrastructure APs (type==3) and drop the `type` column\n",
    "    dataframe = dataframe[dataframe['type'] == 3].drop(columns=['type'])\n",
    "    \n",
    "    # 4) Convert `time` from milliseconds since epoch to datetime\n",
    "    DF_TIME_UNIT = 'ms'  # adjust if needed\n",
    "    dataframe.rename(columns={'time': 'rawTime'}, inplace=True) # rename to match reference\n",
    "    dataframe['time'] = pd.to_datetime(dataframe['rawTime'], unit=DF_TIME_UNIT)\n",
    "    \n",
    "    # 5) remove MACs that don't occur often\n",
    "    mac_counts = dataframe[\"mac\"].value_counts()\n",
    "    reference_aps = mac_counts.sort_values(ascending=False).head(7).index.tolist()\n",
    "    print(f\"reference APs: {reference_aps}\")\n",
    "    dataframe = dataframe[dataframe[\"mac\"].isin(reference_aps)]\n",
    "    \n",
    "    # 6) transform coordinates\n",
    "    dataframe['posXY'] = dataframe['posX'].astype(str) + '-' + dataframe['posY'].astype(str)\n",
    "    dataframe = dataframe.drop(columns=['posZ'])\n",
    "\n",
    "\n",
    "    return dataframe\n",
    "\n",
    "def round_orientation(angles):\n",
    "    nearest_section = np.round(angles / 45)\n",
    "    rounded = int(nearest_section* 45) % 360\n",
    "    return rounded\n"
   ],
   "outputs": [],
   "execution_count": 27
  },
  {
   "metadata": {
    "ExecuteTime": {
     "end_time": "2025-05-14T18:06:49.873509Z",
     "start_time": "2025-05-14T18:06:44.154426Z"
    }
   },
   "cell_type": "code",
   "source": "df = cleaning(df)",
   "outputs": [
    {
     "name": "stdout",
     "output_type": "stream",
     "text": [
      "reference APs: ['00:0f:a3:39:e1:c0', '00:0f:a3:39:dd:cd', '00:14:bf:b1:97:8a', '00:14:bf:3b:c7:c6', '00:14:bf:b1:97:90', '00:14:bf:b1:97:8d', '00:14:bf:b1:97:81']\n"
     ]
    }
   ],
   "execution_count": 28
  },
  {
   "metadata": {
    "jupyter": {
     "is_executing": true
    }
   },
   "cell_type": "code",
   "source": "round_orientation(22.4), round_orientation(22.5)",
   "outputs": [],
   "execution_count": null
  },
  {
   "metadata": {
    "ExecuteTime": {
     "end_time": "2025-05-14T18:06:51.199110Z",
     "start_time": "2025-05-14T18:06:51.038482Z"
    }
   },
   "cell_type": "code",
   "source": [
    "display(df.info())\n",
    "display(df.head(10))"
   ],
   "outputs": [
    {
     "name": "stdout",
     "output_type": "stream",
     "text": [
      "<class 'pandas.core.frame.DataFrame'>\n",
      "Index: 904985 entries, 0 to 1181626\n",
      "Data columns (total 10 columns):\n",
      " #   Column       Non-Null Count   Dtype         \n",
      "---  ------       --------------   -----         \n",
      " 0   rawTime      904985 non-null  int64         \n",
      " 1   scanMac      904985 non-null  object        \n",
      " 2   posX         904985 non-null  object        \n",
      " 3   posY         904985 non-null  object        \n",
      " 4   orientation  904985 non-null  float64       \n",
      " 5   mac          904985 non-null  object        \n",
      " 6   signal       904985 non-null  int64         \n",
      " 7   channel      904985 non-null  int64         \n",
      " 8   time         904985 non-null  datetime64[ns]\n",
      " 9   posXY        904985 non-null  object        \n",
      "dtypes: datetime64[ns](1), float64(1), int64(3), object(5)\n",
      "memory usage: 75.9+ MB\n"
     ]
    },
    {
     "data": {
      "text/plain": [
       "None"
      ]
     },
     "metadata": {},
     "output_type": "display_data"
    },
    {
     "data": {
      "text/plain": [
       "          rawTime            scanMac posX posY  orientation  \\\n",
       "0   1139643118358  00:02:2D:21:0F:33  0.0  0.0          0.0   \n",
       "1   1139643118358  00:02:2D:21:0F:33  0.0  0.0          0.0   \n",
       "2   1139643118358  00:02:2D:21:0F:33  0.0  0.0          0.0   \n",
       "3   1139643118358  00:02:2D:21:0F:33  0.0  0.0          0.0   \n",
       "4   1139643118358  00:02:2D:21:0F:33  0.0  0.0          0.0   \n",
       "5   1139643118358  00:02:2D:21:0F:33  0.0  0.0          0.0   \n",
       "6   1139643118358  00:02:2D:21:0F:33  0.0  0.0          0.0   \n",
       "11  1139643118744  00:02:2D:21:0F:33  0.0  0.0          0.0   \n",
       "12  1139643118744  00:02:2D:21:0F:33  0.0  0.0          0.0   \n",
       "13  1139643118744  00:02:2D:21:0F:33  0.0  0.0          0.0   \n",
       "\n",
       "                  mac  signal     channel                    time    posXY  \n",
       "0   00:14:bf:b1:97:8a     -38  2437000000 2006-02-11 07:31:58.358  0.0-0.0  \n",
       "1   00:14:bf:b1:97:90     -56  2427000000 2006-02-11 07:31:58.358  0.0-0.0  \n",
       "2   00:0f:a3:39:e1:c0     -53  2462000000 2006-02-11 07:31:58.358  0.0-0.0  \n",
       "3   00:14:bf:b1:97:8d     -65  2442000000 2006-02-11 07:31:58.358  0.0-0.0  \n",
       "4   00:14:bf:b1:97:81     -65  2422000000 2006-02-11 07:31:58.358  0.0-0.0  \n",
       "5   00:14:bf:3b:c7:c6     -66  2432000000 2006-02-11 07:31:58.358  0.0-0.0  \n",
       "6   00:0f:a3:39:dd:cd     -75  2412000000 2006-02-11 07:31:58.358  0.0-0.0  \n",
       "11  00:14:bf:b1:97:8a     -38  2437000000 2006-02-11 07:31:58.744  0.0-0.0  \n",
       "12  00:0f:a3:39:e1:c0     -54  2462000000 2006-02-11 07:31:58.744  0.0-0.0  \n",
       "13  00:14:bf:b1:97:90     -56  2427000000 2006-02-11 07:31:58.744  0.0-0.0  "
      ],
      "text/html": [
       "<div>\n",
       "<style scoped>\n",
       "    .dataframe tbody tr th:only-of-type {\n",
       "        vertical-align: middle;\n",
       "    }\n",
       "\n",
       "    .dataframe tbody tr th {\n",
       "        vertical-align: top;\n",
       "    }\n",
       "\n",
       "    .dataframe thead th {\n",
       "        text-align: right;\n",
       "    }\n",
       "</style>\n",
       "<table border=\"1\" class=\"dataframe\">\n",
       "  <thead>\n",
       "    <tr style=\"text-align: right;\">\n",
       "      <th></th>\n",
       "      <th>rawTime</th>\n",
       "      <th>scanMac</th>\n",
       "      <th>posX</th>\n",
       "      <th>posY</th>\n",
       "      <th>orientation</th>\n",
       "      <th>mac</th>\n",
       "      <th>signal</th>\n",
       "      <th>channel</th>\n",
       "      <th>time</th>\n",
       "      <th>posXY</th>\n",
       "    </tr>\n",
       "  </thead>\n",
       "  <tbody>\n",
       "    <tr>\n",
       "      <th>0</th>\n",
       "      <td>1139643118358</td>\n",
       "      <td>00:02:2D:21:0F:33</td>\n",
       "      <td>0.0</td>\n",
       "      <td>0.0</td>\n",
       "      <td>0.0</td>\n",
       "      <td>00:14:bf:b1:97:8a</td>\n",
       "      <td>-38</td>\n",
       "      <td>2437000000</td>\n",
       "      <td>2006-02-11 07:31:58.358</td>\n",
       "      <td>0.0-0.0</td>\n",
       "    </tr>\n",
       "    <tr>\n",
       "      <th>1</th>\n",
       "      <td>1139643118358</td>\n",
       "      <td>00:02:2D:21:0F:33</td>\n",
       "      <td>0.0</td>\n",
       "      <td>0.0</td>\n",
       "      <td>0.0</td>\n",
       "      <td>00:14:bf:b1:97:90</td>\n",
       "      <td>-56</td>\n",
       "      <td>2427000000</td>\n",
       "      <td>2006-02-11 07:31:58.358</td>\n",
       "      <td>0.0-0.0</td>\n",
       "    </tr>\n",
       "    <tr>\n",
       "      <th>2</th>\n",
       "      <td>1139643118358</td>\n",
       "      <td>00:02:2D:21:0F:33</td>\n",
       "      <td>0.0</td>\n",
       "      <td>0.0</td>\n",
       "      <td>0.0</td>\n",
       "      <td>00:0f:a3:39:e1:c0</td>\n",
       "      <td>-53</td>\n",
       "      <td>2462000000</td>\n",
       "      <td>2006-02-11 07:31:58.358</td>\n",
       "      <td>0.0-0.0</td>\n",
       "    </tr>\n",
       "    <tr>\n",
       "      <th>3</th>\n",
       "      <td>1139643118358</td>\n",
       "      <td>00:02:2D:21:0F:33</td>\n",
       "      <td>0.0</td>\n",
       "      <td>0.0</td>\n",
       "      <td>0.0</td>\n",
       "      <td>00:14:bf:b1:97:8d</td>\n",
       "      <td>-65</td>\n",
       "      <td>2442000000</td>\n",
       "      <td>2006-02-11 07:31:58.358</td>\n",
       "      <td>0.0-0.0</td>\n",
       "    </tr>\n",
       "    <tr>\n",
       "      <th>4</th>\n",
       "      <td>1139643118358</td>\n",
       "      <td>00:02:2D:21:0F:33</td>\n",
       "      <td>0.0</td>\n",
       "      <td>0.0</td>\n",
       "      <td>0.0</td>\n",
       "      <td>00:14:bf:b1:97:81</td>\n",
       "      <td>-65</td>\n",
       "      <td>2422000000</td>\n",
       "      <td>2006-02-11 07:31:58.358</td>\n",
       "      <td>0.0-0.0</td>\n",
       "    </tr>\n",
       "    <tr>\n",
       "      <th>5</th>\n",
       "      <td>1139643118358</td>\n",
       "      <td>00:02:2D:21:0F:33</td>\n",
       "      <td>0.0</td>\n",
       "      <td>0.0</td>\n",
       "      <td>0.0</td>\n",
       "      <td>00:14:bf:3b:c7:c6</td>\n",
       "      <td>-66</td>\n",
       "      <td>2432000000</td>\n",
       "      <td>2006-02-11 07:31:58.358</td>\n",
       "      <td>0.0-0.0</td>\n",
       "    </tr>\n",
       "    <tr>\n",
       "      <th>6</th>\n",
       "      <td>1139643118358</td>\n",
       "      <td>00:02:2D:21:0F:33</td>\n",
       "      <td>0.0</td>\n",
       "      <td>0.0</td>\n",
       "      <td>0.0</td>\n",
       "      <td>00:0f:a3:39:dd:cd</td>\n",
       "      <td>-75</td>\n",
       "      <td>2412000000</td>\n",
       "      <td>2006-02-11 07:31:58.358</td>\n",
       "      <td>0.0-0.0</td>\n",
       "    </tr>\n",
       "    <tr>\n",
       "      <th>11</th>\n",
       "      <td>1139643118744</td>\n",
       "      <td>00:02:2D:21:0F:33</td>\n",
       "      <td>0.0</td>\n",
       "      <td>0.0</td>\n",
       "      <td>0.0</td>\n",
       "      <td>00:14:bf:b1:97:8a</td>\n",
       "      <td>-38</td>\n",
       "      <td>2437000000</td>\n",
       "      <td>2006-02-11 07:31:58.744</td>\n",
       "      <td>0.0-0.0</td>\n",
       "    </tr>\n",
       "    <tr>\n",
       "      <th>12</th>\n",
       "      <td>1139643118744</td>\n",
       "      <td>00:02:2D:21:0F:33</td>\n",
       "      <td>0.0</td>\n",
       "      <td>0.0</td>\n",
       "      <td>0.0</td>\n",
       "      <td>00:0f:a3:39:e1:c0</td>\n",
       "      <td>-54</td>\n",
       "      <td>2462000000</td>\n",
       "      <td>2006-02-11 07:31:58.744</td>\n",
       "      <td>0.0-0.0</td>\n",
       "    </tr>\n",
       "    <tr>\n",
       "      <th>13</th>\n",
       "      <td>1139643118744</td>\n",
       "      <td>00:02:2D:21:0F:33</td>\n",
       "      <td>0.0</td>\n",
       "      <td>0.0</td>\n",
       "      <td>0.0</td>\n",
       "      <td>00:14:bf:b1:97:90</td>\n",
       "      <td>-56</td>\n",
       "      <td>2427000000</td>\n",
       "      <td>2006-02-11 07:31:58.744</td>\n",
       "      <td>0.0-0.0</td>\n",
       "    </tr>\n",
       "  </tbody>\n",
       "</table>\n",
       "</div>"
      ]
     },
     "metadata": {},
     "output_type": "display_data"
    }
   ],
   "execution_count": 29
  },
  {
   "metadata": {
    "ExecuteTime": {
     "end_time": "2025-05-12T20:04:13.218901Z",
     "start_time": "2025-05-12T20:04:09.812508Z"
    }
   },
   "cell_type": "code",
   "source": [
    "df['orientation_rounded'] = df['orientation'].apply(round_orientation)\n",
    "# sanity check: display first few conversions\n",
    "print(df[['orientation', 'orientation_rounded']].tail())\n",
    "# 3) Plot ECDF before and after rounding\n",
    "ecdf_before = ECDF(df['orientation'].dropna())\n",
    "ecdf_after  = ECDF(df['orientation_rounded'].dropna())\n",
    "\n",
    "plt.figure()\n",
    "plt.step(ecdf_before.x, ecdf_before.y, where='post', label='Original')\n",
    "plt.step(ecdf_after.x,  ecdf_after.y,  where='post', label='Rounded')\n",
    "plt.xlabel('Orientation (degrees)')\n",
    "plt.ylabel('ECDF')\n",
    "plt.title('ECDF of Orientation Before vs. After Rounding')\n",
    "plt.legend()\n",
    "plt.show()"
   ],
   "outputs": [
    {
     "name": "stdout",
     "output_type": "stream",
     "text": [
      "         orientation  orientation_rounded\n",
      "1181622        315.7                  315\n",
      "1181623        315.7                  315\n",
      "1181624        315.7                  315\n",
      "1181625        315.7                  315\n",
      "1181626        315.7                  315\n"
     ]
    },
    {
     "data": {
      "text/plain": [
       "<Figure size 640x480 with 1 Axes>"
      ],
      "image/png": "[encoded data removed]"
     },
     "metadata": {},
     "output_type": "display_data"
    }
   ],
   "execution_count": 18
  },
  {
   "metadata": {
    "ExecuteTime": {
     "end_time": "2025-05-12T20:04:13.239597Z",
     "start_time": "2025-05-12T20:04:13.230623Z"
    }
   },
   "cell_type": "code",
   "source": "df[\"orientation_rounded\"].value_counts()",
   "outputs": [
    {
     "data": {
      "text/plain": [
       "orientation_rounded\n",
       "0      113479\n",
       "315    113369\n",
       "135    113225\n",
       "270    113133\n",
       "90     113046\n",
       "45     112978\n",
       "180    112921\n",
       "225    112834\n",
       "Name: count, dtype: int64"
      ]
     },
     "execution_count": 19,
     "metadata": {},
     "output_type": "execute_result"
    }
   ],
   "execution_count": 19
  },
  {
   "metadata": {},
   "cell_type": "markdown",
   "source": "# Try to get the same dataframe as uploaded in moodle"
  },
  {
   "cell_type": "code",
   "metadata": {
    "ExecuteTime": {
     "end_time": "2025-05-12T20:04:13.466726Z",
     "start_time": "2025-05-12T20:04:13.277614Z"
    }
   },
   "source": [
    "import sys\n",
    "import numpy as np\n",
    "import pickle\n",
    "\n",
    "# Make numpy._core.numeric point to numpy.core.numeric\n",
    "sys.modules['numpy._core.numeric'] = np.core.numeric\n",
    "\n",
    "# Now load your pickle\n",
    "with open('df.pkl', 'rb') as f:\n",
    "    df_reference = pickle.load(f)\n",
    "\n",
    "df_reference = pd.DataFrame(df_reference)\n",
    "display(df_reference.head())\n",
    "display(df_reference.info())"
   ],
   "outputs": [
    {
     "data": {
      "text/plain": [
       "                     time  posX  posY  orientation                mac  signal  \\\n",
       "0 2006-02-11 07:31:58.358   0.0   0.0          0.0  00:14:bf:b1:97:8a     -38   \n",
       "1 2006-02-11 07:31:58.358   0.0   0.0          0.0  00:14:bf:b1:97:90     -56   \n",
       "2 2006-02-11 07:31:58.358   0.0   0.0          0.0  00:0f:a3:39:e1:c0     -53   \n",
       "3 2006-02-11 07:31:58.358   0.0   0.0          0.0  00:14:bf:b1:97:8d     -65   \n",
       "4 2006-02-11 07:31:58.358   0.0   0.0          0.0  00:14:bf:b1:97:81     -65   \n",
       "\n",
       "   angle        rawTime    posXY  \n",
       "0      0  1139643118358  0.0-0.0  \n",
       "1      0  1139643118358  0.0-0.0  \n",
       "2      0  1139643118358  0.0-0.0  \n",
       "3      0  1139643118358  0.0-0.0  \n",
       "4      0  1139643118358  0.0-0.0  "
      ],
      "text/html": [
       "<div>\n",
       "<style scoped>\n",
       "    .dataframe tbody tr th:only-of-type {\n",
       "        vertical-align: middle;\n",
       "    }\n",
       "\n",
       "    .dataframe tbody tr th {\n",
       "        vertical-align: top;\n",
       "    }\n",
       "\n",
       "    .dataframe thead th {\n",
       "        text-align: right;\n",
       "    }\n",
       "</style>\n",
       "<table border=\"1\" class=\"dataframe\">\n",
       "  <thead>\n",
       "    <tr style=\"text-align: right;\">\n",
       "      <th></th>\n",
       "      <th>time</th>\n",
       "      <th>posX</th>\n",
       "      <th>posY</th>\n",
       "      <th>orientation</th>\n",
       "      <th>mac</th>\n",
       "      <th>signal</th>\n",
       "      <th>angle</th>\n",
       "      <th>rawTime</th>\n",
       "      <th>posXY</th>\n",
       "    </tr>\n",
       "  </thead>\n",
       "  <tbody>\n",
       "    <tr>\n",
       "      <th>0</th>\n",
       "      <td>2006-02-11 07:31:58.358</td>\n",
       "      <td>0.0</td>\n",
       "      <td>0.0</td>\n",
       "      <td>0.0</td>\n",
       "      <td>00:14:bf:b1:97:8a</td>\n",
       "      <td>-38</td>\n",
       "      <td>0</td>\n",
       "      <td>1139643118358</td>\n",
       "      <td>0.0-0.0</td>\n",
       "    </tr>\n",
       "    <tr>\n",
       "      <th>1</th>\n",
       "      <td>2006-02-11 07:31:58.358</td>\n",
       "      <td>0.0</td>\n",
       "      <td>0.0</td>\n",
       "      <td>0.0</td>\n",
       "      <td>00:14:bf:b1:97:90</td>\n",
       "      <td>-56</td>\n",
       "      <td>0</td>\n",
       "      <td>1139643118358</td>\n",
       "      <td>0.0-0.0</td>\n",
       "    </tr>\n",
       "    <tr>\n",
       "      <th>2</th>\n",
       "      <td>2006-02-11 07:31:58.358</td>\n",
       "      <td>0.0</td>\n",
       "      <td>0.0</td>\n",
       "      <td>0.0</td>\n",
       "      <td>00:0f:a3:39:e1:c0</td>\n",
       "      <td>-53</td>\n",
       "      <td>0</td>\n",
       "      <td>1139643118358</td>\n",
       "      <td>0.0-0.0</td>\n",
       "    </tr>\n",
       "    <tr>\n",
       "      <th>3</th>\n",
       "      <td>2006-02-11 07:31:58.358</td>\n",
       "      <td>0.0</td>\n",
       "      <td>0.0</td>\n",
       "      <td>0.0</td>\n",
       "      <td>00:14:bf:b1:97:8d</td>\n",
       "      <td>-65</td>\n",
       "      <td>0</td>\n",
       "      <td>1139643118358</td>\n",
       "      <td>0.0-0.0</td>\n",
       "    </tr>\n",
       "    <tr>\n",
       "      <th>4</th>\n",
       "      <td>2006-02-11 07:31:58.358</td>\n",
       "      <td>0.0</td>\n",
       "      <td>0.0</td>\n",
       "      <td>0.0</td>\n",
       "      <td>00:14:bf:b1:97:81</td>\n",
       "      <td>-65</td>\n",
       "      <td>0</td>\n",
       "      <td>1139643118358</td>\n",
       "      <td>0.0-0.0</td>\n",
       "    </tr>\n",
       "  </tbody>\n",
       "</table>\n",
       "</div>"
      ]
     },
     "metadata": {},
     "output_type": "display_data"
    },
    {
     "name": "stdout",
     "output_type": "stream",
     "text": [
      "<class 'pandas.core.frame.DataFrame'>\n",
      "Index: 903990 entries, 0 to 1181626\n",
      "Data columns (total 9 columns):\n",
      " #   Column       Non-Null Count   Dtype         \n",
      "---  ------       --------------   -----         \n",
      " 0   time         903990 non-null  datetime64[ns]\n",
      " 1   posX         903990 non-null  float64       \n",
      " 2   posY         903990 non-null  float64       \n",
      " 3   orientation  903990 non-null  float64       \n",
      " 4   mac          903990 non-null  object        \n",
      " 5   signal       903990 non-null  int64         \n",
      " 6   angle        903990 non-null  int64         \n",
      " 7   rawTime      903990 non-null  int64         \n",
      " 8   posXY        903990 non-null  object        \n",
      "dtypes: datetime64[ns](1), float64(3), int64(3), object(2)\n",
      "memory usage: 69.0+ MB\n"
     ]
    },
    {
     "data": {
      "text/plain": [
       "None"
      ]
     },
     "metadata": {},
     "output_type": "display_data"
    }
   ],
   "execution_count": 20
  },
  {
   "cell_type": "code",
   "metadata": {
    "ExecuteTime": {
     "end_time": "2025-05-12T20:05:52.465519Z",
     "start_time": "2025-05-12T20:05:52.461963Z"
    }
   },
   "source": [
    "print(\"Check if they are equal: \" , df.equals(df_reference))\n",
    "print(f\"row difference: {len(df) - len(df_reference)}\")"
   ],
   "outputs": [
    {
     "name": "stdout",
     "output_type": "stream",
     "text": [
      "Check if they are equal:  False\n",
      "row difference: 995\n"
     ]
    }
   ],
   "execution_count": 23
  },
  {
   "cell_type": "markdown",
   "metadata": {},
   "source": [
    "## EDA\n",
    "\n",
    "We actually already did some EDA, for example, we explored \n",
    "\n",
    "   - the orientation, and we extracted the angle-column\n",
    "   - Mac address: \n",
    "     - we managed to reduce to 7 potential AP, based on the number of measurements\n",
    "     - According to the documentation, the access points consist of 5 Linksys/Cisco and one Lancom L-54g routers. We can try to look up these MAC addresses: http://coffer.com/mac_find/ vendor addresses that begin with 00:14:bf belong to Linksys devices, those beginning with 00:0f:a3 belong to Alpha Networks, and Lancom devices start with 00:a0:57. We acknowledge a discrepancy in the documentation.\n",
    "  \n",
    "Until now, the goal was to clean and structure the data\n",
    "\n",
    "What will we do next: \n",
    "\n",
    "- Explore the data further, concentrating on investigating the properties of the response variable, signal strength.\n",
    "\n",
    "Before designing a model, we have to know how the signals behave: \n",
    " Does the signal strength behave similarly at all locations or does the location, orientation, access point influence the distribution? \n",
    " We also want to characterize the relationship between the signal strength and the distance from the device to the access point. What affects this relationship?"
   ]
  },
  {
   "metadata": {
    "ExecuteTime": {
     "end_time": "2025-05-12T20:04:13.517962Z",
     "start_time": "2025-05-12T20:04:13.515329Z"
    }
   },
   "cell_type": "code",
   "source": "",
   "outputs": [],
   "execution_count": null
  }
 ],
 "metadata": {
  "kernelspec": {
   "display_name": "Python 3 (ipykernel)",
   "language": "python",
   "name": "python3"
  },
  "language_info": {
   "codemirror_mode": {
    "name": "ipython",
    "version": 3
   },
   "file_extension": ".py",
   "mimetype": "text/x-python",
   "name": "python",
   "nbconvert_exporter": "python",
   "pygments_lexer": "ipython3",
   "version": "3.10.13"
  }
 },
 "nbformat": 4,
 "nbformat_minor": 4
}
